{
  "nbformat": 4,
  "nbformat_minor": 0,
  "metadata": {
    "colab": {
      "provenance": []
    },
    "kernelspec": {
      "name": "python3",
      "display_name": "Python 3"
    },
    "language_info": {
      "name": "python"
    }
  },
  "cells": [
    {
      "cell_type": "code",
      "execution_count": null,
      "metadata": {
        "id": "1C0pj3qbOmZZ"
      },
      "outputs": [],
      "source": [
        "import numpy as np\n",
        "import pandas as pd\n",
        "import seaborn as sns\n",
        "import matplotlib.pyplot as plt"
      ]
    },
    {
      "cell_type": "code",
      "source": [
        "temperature = pd.read_csv(\"/content/temperatures.csv\")\n",
        "temperature.head()"
      ],
      "metadata": {
        "colab": {
          "base_uri": "https://localhost:8080/",
          "height": 244
        },
        "id": "0K7XRCQmPcjz",
        "outputId": "8e857a6d-03d1-40c1-adde-546e540571a2"
      },
      "execution_count": null,
      "outputs": [
        {
          "output_type": "execute_result",
          "data": {
            "text/plain": [
              "   YEAR    JAN    FEB    MAR    APR    MAY    JUN    JUL    AUG    SEP    OCT  \\\n",
              "0  1901  22.40  24.14  29.07  31.91  33.41  33.18  31.21  30.39  30.47  29.97   \n",
              "1  1902  24.93  26.58  29.77  31.78  33.73  32.91  30.92  30.73  29.80  29.12   \n",
              "2  1903  23.44  25.03  27.83  31.39  32.91  33.00  31.34  29.98  29.85  29.04   \n",
              "3  1904  22.50  24.73  28.21  32.02  32.64  32.07  30.36  30.09  30.04  29.20   \n",
              "4  1905  22.00  22.83  26.68  30.01  33.32  33.25  31.44  30.68  30.12  30.67   \n",
              "\n",
              "     NOV    DEC  ANNUAL  JAN-FEB  MAR-MAY  JUN-SEP  OCT-DEC  \n",
              "0  27.31  24.49   28.96    23.27    31.46    31.27    27.25  \n",
              "1  26.31  24.04   29.22    25.75    31.76    31.09    26.49  \n",
              "2  26.08  23.65   28.47    24.24    30.71    30.92    26.26  \n",
              "3  26.36  23.63   28.49    23.62    30.95    30.66    26.40  \n",
              "4  27.52  23.82   28.30    22.25    30.00    31.33    26.57  "
            ],
            "text/html": [
              "\n",
              "  <div id=\"df-78e028b1-6d43-4364-b220-2ac9d72d7353\" class=\"colab-df-container\">\n",
              "    <div>\n",
              "<style scoped>\n",
              "    .dataframe tbody tr th:only-of-type {\n",
              "        vertical-align: middle;\n",
              "    }\n",
              "\n",
              "    .dataframe tbody tr th {\n",
              "        vertical-align: top;\n",
              "    }\n",
              "\n",
              "    .dataframe thead th {\n",
              "        text-align: right;\n",
              "    }\n",
              "</style>\n",
              "<table border=\"1\" class=\"dataframe\">\n",
              "  <thead>\n",
              "    <tr style=\"text-align: right;\">\n",
              "      <th></th>\n",
              "      <th>YEAR</th>\n",
              "      <th>JAN</th>\n",
              "      <th>FEB</th>\n",
              "      <th>MAR</th>\n",
              "      <th>APR</th>\n",
              "      <th>MAY</th>\n",
              "      <th>JUN</th>\n",
              "      <th>JUL</th>\n",
              "      <th>AUG</th>\n",
              "      <th>SEP</th>\n",
              "      <th>OCT</th>\n",
              "      <th>NOV</th>\n",
              "      <th>DEC</th>\n",
              "      <th>ANNUAL</th>\n",
              "      <th>JAN-FEB</th>\n",
              "      <th>MAR-MAY</th>\n",
              "      <th>JUN-SEP</th>\n",
              "      <th>OCT-DEC</th>\n",
              "    </tr>\n",
              "  </thead>\n",
              "  <tbody>\n",
              "    <tr>\n",
              "      <th>0</th>\n",
              "      <td>1901</td>\n",
              "      <td>22.40</td>\n",
              "      <td>24.14</td>\n",
              "      <td>29.07</td>\n",
              "      <td>31.91</td>\n",
              "      <td>33.41</td>\n",
              "      <td>33.18</td>\n",
              "      <td>31.21</td>\n",
              "      <td>30.39</td>\n",
              "      <td>30.47</td>\n",
              "      <td>29.97</td>\n",
              "      <td>27.31</td>\n",
              "      <td>24.49</td>\n",
              "      <td>28.96</td>\n",
              "      <td>23.27</td>\n",
              "      <td>31.46</td>\n",
              "      <td>31.27</td>\n",
              "      <td>27.25</td>\n",
              "    </tr>\n",
              "    <tr>\n",
              "      <th>1</th>\n",
              "      <td>1902</td>\n",
              "      <td>24.93</td>\n",
              "      <td>26.58</td>\n",
              "      <td>29.77</td>\n",
              "      <td>31.78</td>\n",
              "      <td>33.73</td>\n",
              "      <td>32.91</td>\n",
              "      <td>30.92</td>\n",
              "      <td>30.73</td>\n",
              "      <td>29.80</td>\n",
              "      <td>29.12</td>\n",
              "      <td>26.31</td>\n",
              "      <td>24.04</td>\n",
              "      <td>29.22</td>\n",
              "      <td>25.75</td>\n",
              "      <td>31.76</td>\n",
              "      <td>31.09</td>\n",
              "      <td>26.49</td>\n",
              "    </tr>\n",
              "    <tr>\n",
              "      <th>2</th>\n",
              "      <td>1903</td>\n",
              "      <td>23.44</td>\n",
              "      <td>25.03</td>\n",
              "      <td>27.83</td>\n",
              "      <td>31.39</td>\n",
              "      <td>32.91</td>\n",
              "      <td>33.00</td>\n",
              "      <td>31.34</td>\n",
              "      <td>29.98</td>\n",
              "      <td>29.85</td>\n",
              "      <td>29.04</td>\n",
              "      <td>26.08</td>\n",
              "      <td>23.65</td>\n",
              "      <td>28.47</td>\n",
              "      <td>24.24</td>\n",
              "      <td>30.71</td>\n",
              "      <td>30.92</td>\n",
              "      <td>26.26</td>\n",
              "    </tr>\n",
              "    <tr>\n",
              "      <th>3</th>\n",
              "      <td>1904</td>\n",
              "      <td>22.50</td>\n",
              "      <td>24.73</td>\n",
              "      <td>28.21</td>\n",
              "      <td>32.02</td>\n",
              "      <td>32.64</td>\n",
              "      <td>32.07</td>\n",
              "      <td>30.36</td>\n",
              "      <td>30.09</td>\n",
              "      <td>30.04</td>\n",
              "      <td>29.20</td>\n",
              "      <td>26.36</td>\n",
              "      <td>23.63</td>\n",
              "      <td>28.49</td>\n",
              "      <td>23.62</td>\n",
              "      <td>30.95</td>\n",
              "      <td>30.66</td>\n",
              "      <td>26.40</td>\n",
              "    </tr>\n",
              "    <tr>\n",
              "      <th>4</th>\n",
              "      <td>1905</td>\n",
              "      <td>22.00</td>\n",
              "      <td>22.83</td>\n",
              "      <td>26.68</td>\n",
              "      <td>30.01</td>\n",
              "      <td>33.32</td>\n",
              "      <td>33.25</td>\n",
              "      <td>31.44</td>\n",
              "      <td>30.68</td>\n",
              "      <td>30.12</td>\n",
              "      <td>30.67</td>\n",
              "      <td>27.52</td>\n",
              "      <td>23.82</td>\n",
              "      <td>28.30</td>\n",
              "      <td>22.25</td>\n",
              "      <td>30.00</td>\n",
              "      <td>31.33</td>\n",
              "      <td>26.57</td>\n",
              "    </tr>\n",
              "  </tbody>\n",
              "</table>\n",
              "</div>\n",
              "    <div class=\"colab-df-buttons\">\n",
              "\n",
              "  <div class=\"colab-df-container\">\n",
              "    <button class=\"colab-df-convert\" onclick=\"convertToInteractive('df-78e028b1-6d43-4364-b220-2ac9d72d7353')\"\n",
              "            title=\"Convert this dataframe to an interactive table.\"\n",
              "            style=\"display:none;\">\n",
              "\n",
              "  <svg xmlns=\"http://www.w3.org/2000/svg\" height=\"24px\" viewBox=\"0 -960 960 960\">\n",
              "    <path d=\"M120-120v-720h720v720H120Zm60-500h600v-160H180v160Zm220 220h160v-160H400v160Zm0 220h160v-160H400v160ZM180-400h160v-160H180v160Zm440 0h160v-160H620v160ZM180-180h160v-160H180v160Zm440 0h160v-160H620v160Z\"/>\n",
              "  </svg>\n",
              "    </button>\n",
              "\n",
              "  <style>\n",
              "    .colab-df-container {\n",
              "      display:flex;\n",
              "      gap: 12px;\n",
              "    }\n",
              "\n",
              "    .colab-df-convert {\n",
              "      background-color: #E8F0FE;\n",
              "      border: none;\n",
              "      border-radius: 50%;\n",
              "      cursor: pointer;\n",
              "      display: none;\n",
              "      fill: #1967D2;\n",
              "      height: 32px;\n",
              "      padding: 0 0 0 0;\n",
              "      width: 32px;\n",
              "    }\n",
              "\n",
              "    .colab-df-convert:hover {\n",
              "      background-color: #E2EBFA;\n",
              "      box-shadow: 0px 1px 2px rgba(60, 64, 67, 0.3), 0px 1px 3px 1px rgba(60, 64, 67, 0.15);\n",
              "      fill: #174EA6;\n",
              "    }\n",
              "\n",
              "    .colab-df-buttons div {\n",
              "      margin-bottom: 4px;\n",
              "    }\n",
              "\n",
              "    [theme=dark] .colab-df-convert {\n",
              "      background-color: #3B4455;\n",
              "      fill: #D2E3FC;\n",
              "    }\n",
              "\n",
              "    [theme=dark] .colab-df-convert:hover {\n",
              "      background-color: #434B5C;\n",
              "      box-shadow: 0px 1px 3px 1px rgba(0, 0, 0, 0.15);\n",
              "      filter: drop-shadow(0px 1px 2px rgba(0, 0, 0, 0.3));\n",
              "      fill: #FFFFFF;\n",
              "    }\n",
              "  </style>\n",
              "\n",
              "    <script>\n",
              "      const buttonEl =\n",
              "        document.querySelector('#df-78e028b1-6d43-4364-b220-2ac9d72d7353 button.colab-df-convert');\n",
              "      buttonEl.style.display =\n",
              "        google.colab.kernel.accessAllowed ? 'block' : 'none';\n",
              "\n",
              "      async function convertToInteractive(key) {\n",
              "        const element = document.querySelector('#df-78e028b1-6d43-4364-b220-2ac9d72d7353');\n",
              "        const dataTable =\n",
              "          await google.colab.kernel.invokeFunction('convertToInteractive',\n",
              "                                                    [key], {});\n",
              "        if (!dataTable) return;\n",
              "\n",
              "        const docLinkHtml = 'Like what you see? Visit the ' +\n",
              "          '<a target=\"_blank\" href=https://colab.research.google.com/notebooks/data_table.ipynb>data table notebook</a>'\n",
              "          + ' to learn more about interactive tables.';\n",
              "        element.innerHTML = '';\n",
              "        dataTable['output_type'] = 'display_data';\n",
              "        await google.colab.output.renderOutput(dataTable, element);\n",
              "        const docLink = document.createElement('div');\n",
              "        docLink.innerHTML = docLinkHtml;\n",
              "        element.appendChild(docLink);\n",
              "      }\n",
              "    </script>\n",
              "  </div>\n",
              "\n",
              "\n",
              "<div id=\"df-42d8ce67-9fb7-45e7-b662-98e61c63c312\">\n",
              "  <button class=\"colab-df-quickchart\" onclick=\"quickchart('df-42d8ce67-9fb7-45e7-b662-98e61c63c312')\"\n",
              "            title=\"Suggest charts\"\n",
              "            style=\"display:none;\">\n",
              "\n",
              "<svg xmlns=\"http://www.w3.org/2000/svg\" height=\"24px\"viewBox=\"0 0 24 24\"\n",
              "     width=\"24px\">\n",
              "    <g>\n",
              "        <path d=\"M19 3H5c-1.1 0-2 .9-2 2v14c0 1.1.9 2 2 2h14c1.1 0 2-.9 2-2V5c0-1.1-.9-2-2-2zM9 17H7v-7h2v7zm4 0h-2V7h2v10zm4 0h-2v-4h2v4z\"/>\n",
              "    </g>\n",
              "</svg>\n",
              "  </button>\n",
              "\n",
              "<style>\n",
              "  .colab-df-quickchart {\n",
              "      --bg-color: #E8F0FE;\n",
              "      --fill-color: #1967D2;\n",
              "      --hover-bg-color: #E2EBFA;\n",
              "      --hover-fill-color: #174EA6;\n",
              "      --disabled-fill-color: #AAA;\n",
              "      --disabled-bg-color: #DDD;\n",
              "  }\n",
              "\n",
              "  [theme=dark] .colab-df-quickchart {\n",
              "      --bg-color: #3B4455;\n",
              "      --fill-color: #D2E3FC;\n",
              "      --hover-bg-color: #434B5C;\n",
              "      --hover-fill-color: #FFFFFF;\n",
              "      --disabled-bg-color: #3B4455;\n",
              "      --disabled-fill-color: #666;\n",
              "  }\n",
              "\n",
              "  .colab-df-quickchart {\n",
              "    background-color: var(--bg-color);\n",
              "    border: none;\n",
              "    border-radius: 50%;\n",
              "    cursor: pointer;\n",
              "    display: none;\n",
              "    fill: var(--fill-color);\n",
              "    height: 32px;\n",
              "    padding: 0;\n",
              "    width: 32px;\n",
              "  }\n",
              "\n",
              "  .colab-df-quickchart:hover {\n",
              "    background-color: var(--hover-bg-color);\n",
              "    box-shadow: 0 1px 2px rgba(60, 64, 67, 0.3), 0 1px 3px 1px rgba(60, 64, 67, 0.15);\n",
              "    fill: var(--button-hover-fill-color);\n",
              "  }\n",
              "\n",
              "  .colab-df-quickchart-complete:disabled,\n",
              "  .colab-df-quickchart-complete:disabled:hover {\n",
              "    background-color: var(--disabled-bg-color);\n",
              "    fill: var(--disabled-fill-color);\n",
              "    box-shadow: none;\n",
              "  }\n",
              "\n",
              "  .colab-df-spinner {\n",
              "    border: 2px solid var(--fill-color);\n",
              "    border-color: transparent;\n",
              "    border-bottom-color: var(--fill-color);\n",
              "    animation:\n",
              "      spin 1s steps(1) infinite;\n",
              "  }\n",
              "\n",
              "  @keyframes spin {\n",
              "    0% {\n",
              "      border-color: transparent;\n",
              "      border-bottom-color: var(--fill-color);\n",
              "      border-left-color: var(--fill-color);\n",
              "    }\n",
              "    20% {\n",
              "      border-color: transparent;\n",
              "      border-left-color: var(--fill-color);\n",
              "      border-top-color: var(--fill-color);\n",
              "    }\n",
              "    30% {\n",
              "      border-color: transparent;\n",
              "      border-left-color: var(--fill-color);\n",
              "      border-top-color: var(--fill-color);\n",
              "      border-right-color: var(--fill-color);\n",
              "    }\n",
              "    40% {\n",
              "      border-color: transparent;\n",
              "      border-right-color: var(--fill-color);\n",
              "      border-top-color: var(--fill-color);\n",
              "    }\n",
              "    60% {\n",
              "      border-color: transparent;\n",
              "      border-right-color: var(--fill-color);\n",
              "    }\n",
              "    80% {\n",
              "      border-color: transparent;\n",
              "      border-right-color: var(--fill-color);\n",
              "      border-bottom-color: var(--fill-color);\n",
              "    }\n",
              "    90% {\n",
              "      border-color: transparent;\n",
              "      border-bottom-color: var(--fill-color);\n",
              "    }\n",
              "  }\n",
              "</style>\n",
              "\n",
              "  <script>\n",
              "    async function quickchart(key) {\n",
              "      const quickchartButtonEl =\n",
              "        document.querySelector('#' + key + ' button');\n",
              "      quickchartButtonEl.disabled = true;  // To prevent multiple clicks.\n",
              "      quickchartButtonEl.classList.add('colab-df-spinner');\n",
              "      try {\n",
              "        const charts = await google.colab.kernel.invokeFunction(\n",
              "            'suggestCharts', [key], {});\n",
              "      } catch (error) {\n",
              "        console.error('Error during call to suggestCharts:', error);\n",
              "      }\n",
              "      quickchartButtonEl.classList.remove('colab-df-spinner');\n",
              "      quickchartButtonEl.classList.add('colab-df-quickchart-complete');\n",
              "    }\n",
              "    (() => {\n",
              "      let quickchartButtonEl =\n",
              "        document.querySelector('#df-42d8ce67-9fb7-45e7-b662-98e61c63c312 button');\n",
              "      quickchartButtonEl.style.display =\n",
              "        google.colab.kernel.accessAllowed ? 'block' : 'none';\n",
              "    })();\n",
              "  </script>\n",
              "</div>\n",
              "    </div>\n",
              "  </div>\n"
            ],
            "application/vnd.google.colaboratory.intrinsic+json": {
              "type": "dataframe",
              "variable_name": "temperature",
              "summary": "{\n  \"name\": \"temperature\",\n  \"rows\": 117,\n  \"fields\": [\n    {\n      \"column\": \"YEAR\",\n      \"properties\": {\n        \"dtype\": \"number\",\n        \"std\": 33,\n        \"min\": 1901,\n        \"max\": 2017,\n        \"num_unique_values\": 117,\n        \"samples\": [\n          1945,\n          1905,\n          1954\n        ],\n        \"semantic_type\": \"\",\n        \"description\": \"\"\n      }\n    },\n    {\n      \"column\": \"JAN\",\n      \"properties\": {\n        \"dtype\": \"number\",\n        \"std\": 0.834587606035784,\n        \"min\": 22.0,\n        \"max\": 26.94,\n        \"num_unique_values\": 93,\n        \"samples\": [\n          22.38,\n          22.84,\n          22.9\n        ],\n        \"semantic_type\": \"\",\n        \"description\": \"\"\n      }\n    },\n    {\n      \"column\": \"FEB\",\n      \"properties\": {\n        \"dtype\": \"number\",\n        \"std\": 1.1507567443147626,\n        \"min\": 22.83,\n        \"max\": 29.72,\n        \"num_unique_values\": 99,\n        \"samples\": [\n          26.19,\n          25.33,\n          26.59\n        ],\n        \"semantic_type\": \"\",\n        \"description\": \"\"\n      }\n    },\n    {\n      \"column\": \"MAR\",\n      \"properties\": {\n        \"dtype\": \"number\",\n        \"std\": 1.0684512315440673,\n        \"min\": 26.68,\n        \"max\": 32.62,\n        \"num_unique_values\": 99,\n        \"samples\": [\n          29.26,\n          29.11,\n          30.2\n        ],\n        \"semantic_type\": \"\",\n        \"description\": \"\"\n      }\n    },\n    {\n      \"column\": \"APR\",\n      \"properties\": {\n        \"dtype\": \"number\",\n        \"std\": 0.8894779942580806,\n        \"min\": 30.01,\n        \"max\": 35.38,\n        \"num_unique_values\": 98,\n        \"samples\": [\n          32.68,\n          30.75,\n          32.74\n        ],\n        \"semantic_type\": \"\",\n        \"description\": \"\"\n      }\n    },\n    {\n      \"column\": \"MAY\",\n      \"properties\": {\n        \"dtype\": \"number\",\n        \"std\": 0.7249049553033843,\n        \"min\": 31.93,\n        \"max\": 35.84,\n        \"num_unique_values\": 92,\n        \"samples\": [\n          34.23,\n          32.35,\n          32.86\n        ],\n        \"semantic_type\": \"\",\n        \"description\": \"\"\n      }\n    },\n    {\n      \"column\": \"JUN\",\n      \"properties\": {\n        \"dtype\": \"number\",\n        \"std\": 0.6331316748149578,\n        \"min\": 31.1,\n        \"max\": 34.48,\n        \"num_unique_values\": 87,\n        \"samples\": [\n          32.29,\n          33.18,\n          32.2\n        ],\n        \"semantic_type\": \"\",\n        \"description\": \"\"\n      }\n    },\n    {\n      \"column\": \"JUL\",\n      \"properties\": {\n        \"dtype\": \"number\",\n        \"std\": 0.468817576914948,\n        \"min\": 29.76,\n        \"max\": 32.76,\n        \"num_unique_values\": 81,\n        \"samples\": [\n          30.73,\n          31.21,\n          30.81\n        ],\n        \"semantic_type\": \"\",\n        \"description\": \"\"\n      }\n    },\n    {\n      \"column\": \"AUG\",\n      \"properties\": {\n        \"dtype\": \"number\",\n        \"std\": 0.4763119533699285,\n        \"min\": 29.31,\n        \"max\": 31.84,\n        \"num_unique_values\": 81,\n        \"samples\": [\n          30.32,\n          30.39,\n          30.08\n        ],\n        \"semantic_type\": \"\",\n        \"description\": \"\"\n      }\n    },\n    {\n      \"column\": \"SEP\",\n      \"properties\": {\n        \"dtype\": \"number\",\n        \"std\": 0.5442945910325506,\n        \"min\": 29.07,\n        \"max\": 32.22,\n        \"num_unique_values\": 91,\n        \"samples\": [\n          30.55,\n          29.32,\n          29.71\n        ],\n        \"semantic_type\": \"\",\n        \"description\": \"\"\n      }\n    },\n    {\n      \"column\": \"OCT\",\n      \"properties\": {\n        \"dtype\": \"number\",\n        \"std\": 0.705492200882088,\n        \"min\": 27.9,\n        \"max\": 32.29,\n        \"num_unique_values\": 90,\n        \"samples\": [\n          28.96,\n          28.57,\n          30.13\n        ],\n        \"semantic_type\": \"\",\n        \"description\": \"\"\n      }\n    },\n    {\n      \"column\": \"NOV\",\n      \"properties\": {\n        \"dtype\": \"number\",\n        \"std\": 0.7145175557391683,\n        \"min\": 25.7,\n        \"max\": 30.11,\n        \"num_unique_values\": 98,\n        \"samples\": [\n          27.49,\n          27.71,\n          28.05\n        ],\n        \"semantic_type\": \"\",\n        \"description\": \"\"\n      }\n    },\n    {\n      \"column\": \"DEC\",\n      \"properties\": {\n        \"dtype\": \"number\",\n        \"std\": 0.7826439391666521,\n        \"min\": 23.02,\n        \"max\": 28.01,\n        \"num_unique_values\": 96,\n        \"samples\": [\n          25.15,\n          26.21,\n          24.67\n        ],\n        \"semantic_type\": \"\",\n        \"description\": \"\"\n      }\n    },\n    {\n      \"column\": \"ANNUAL\",\n      \"properties\": {\n        \"dtype\": \"number\",\n        \"std\": 0.5555548732680748,\n        \"min\": 28.11,\n        \"max\": 31.63,\n        \"num_unique_values\": 82,\n        \"samples\": [\n          29.46,\n          28.96,\n          28.59\n        ],\n        \"semantic_type\": \"\",\n        \"description\": \"\"\n      }\n    },\n    {\n      \"column\": \"JAN-FEB\",\n      \"properties\": {\n        \"dtype\": \"number\",\n        \"std\": 0.9112386351993575,\n        \"min\": 22.25,\n        \"max\": 28.33,\n        \"num_unique_values\": 97,\n        \"samples\": [\n          24.12,\n          25.49,\n          25.58\n        ],\n        \"semantic_type\": \"\",\n        \"description\": \"\"\n      }\n    },\n    {\n      \"column\": \"MAR-MAY\",\n      \"properties\": {\n        \"dtype\": \"number\",\n        \"std\": 0.7405853341744104,\n        \"min\": 29.92,\n        \"max\": 34.57,\n        \"num_unique_values\": 97,\n        \"samples\": [\n          31.62,\n          30.8,\n          31.82\n        ],\n        \"semantic_type\": \"\",\n        \"description\": \"\"\n      }\n    },\n    {\n      \"column\": \"JUN-SEP\",\n      \"properties\": {\n        \"dtype\": \"number\",\n        \"std\": 0.42050793461826996,\n        \"min\": 30.24,\n        \"max\": 32.41,\n        \"num_unique_values\": 78,\n        \"samples\": [\n          31.37,\n          31.27,\n          30.99\n        ],\n        \"semantic_type\": \"\",\n        \"description\": \"\"\n      }\n    },\n    {\n      \"column\": \"OCT-DEC\",\n      \"properties\": {\n        \"dtype\": \"number\",\n        \"std\": 0.6720028371552533,\n        \"min\": 25.74,\n        \"max\": 30.03,\n        \"num_unique_values\": 91,\n        \"samples\": [\n          26.77,\n          26.74,\n          27.71\n        ],\n        \"semantic_type\": \"\",\n        \"description\": \"\"\n      }\n    }\n  ]\n}"
            }
          },
          "metadata": {},
          "execution_count": 3
        }
      ]
    },
    {
      "cell_type": "code",
      "source": [
        "temperature.tail()"
      ],
      "metadata": {
        "colab": {
          "base_uri": "https://localhost:8080/",
          "height": 244
        },
        "id": "C-4zLcmYQJ4l",
        "outputId": "77782f1a-69e6-4fd5-865e-dbe09aa70b3e"
      },
      "execution_count": null,
      "outputs": [
        {
          "output_type": "execute_result",
          "data": {
            "text/plain": [
              "     YEAR    JAN    FEB    MAR    APR    MAY    JUN    JUL    AUG    SEP  \\\n",
              "112  2013  24.56  26.59  30.62  32.66  34.46  32.44  31.07  30.76  31.04   \n",
              "113  2014  23.83  25.97  28.95  32.74  33.77  34.15  31.85  31.32  30.68   \n",
              "114  2015  24.58  26.89  29.07  31.87  34.09  32.48  31.88  31.52  31.55   \n",
              "115  2016  26.94  29.72  32.62  35.38  35.72  34.03  31.64  31.79  31.66   \n",
              "116  2017  26.45  29.46  31.60  34.95  35.84  33.82  31.88  31.72  32.22   \n",
              "\n",
              "       OCT    NOV    DEC  ANNUAL  JAN-FEB  MAR-MAY  JUN-SEP  OCT-DEC  \n",
              "112  30.27  27.83  25.37   29.81    25.58    32.58    31.33    27.83  \n",
              "113  30.29  28.05  25.08   29.72    24.90    31.82    32.00    27.81  \n",
              "114  31.04  28.10  25.67   29.90    25.74    31.68    31.87    28.27  \n",
              "115  31.98  30.11  28.01   31.63    28.33    34.57    32.28    30.03  \n",
              "116  32.29  29.60  27.18   31.42    27.95    34.13    32.41    29.69  "
            ],
            "text/html": [
              "\n",
              "  <div id=\"df-dba567ab-cf99-4e83-bd1f-502d0e012d13\" class=\"colab-df-container\">\n",
              "    <div>\n",
              "<style scoped>\n",
              "    .dataframe tbody tr th:only-of-type {\n",
              "        vertical-align: middle;\n",
              "    }\n",
              "\n",
              "    .dataframe tbody tr th {\n",
              "        vertical-align: top;\n",
              "    }\n",
              "\n",
              "    .dataframe thead th {\n",
              "        text-align: right;\n",
              "    }\n",
              "</style>\n",
              "<table border=\"1\" class=\"dataframe\">\n",
              "  <thead>\n",
              "    <tr style=\"text-align: right;\">\n",
              "      <th></th>\n",
              "      <th>YEAR</th>\n",
              "      <th>JAN</th>\n",
              "      <th>FEB</th>\n",
              "      <th>MAR</th>\n",
              "      <th>APR</th>\n",
              "      <th>MAY</th>\n",
              "      <th>JUN</th>\n",
              "      <th>JUL</th>\n",
              "      <th>AUG</th>\n",
              "      <th>SEP</th>\n",
              "      <th>OCT</th>\n",
              "      <th>NOV</th>\n",
              "      <th>DEC</th>\n",
              "      <th>ANNUAL</th>\n",
              "      <th>JAN-FEB</th>\n",
              "      <th>MAR-MAY</th>\n",
              "      <th>JUN-SEP</th>\n",
              "      <th>OCT-DEC</th>\n",
              "    </tr>\n",
              "  </thead>\n",
              "  <tbody>\n",
              "    <tr>\n",
              "      <th>112</th>\n",
              "      <td>2013</td>\n",
              "      <td>24.56</td>\n",
              "      <td>26.59</td>\n",
              "      <td>30.62</td>\n",
              "      <td>32.66</td>\n",
              "      <td>34.46</td>\n",
              "      <td>32.44</td>\n",
              "      <td>31.07</td>\n",
              "      <td>30.76</td>\n",
              "      <td>31.04</td>\n",
              "      <td>30.27</td>\n",
              "      <td>27.83</td>\n",
              "      <td>25.37</td>\n",
              "      <td>29.81</td>\n",
              "      <td>25.58</td>\n",
              "      <td>32.58</td>\n",
              "      <td>31.33</td>\n",
              "      <td>27.83</td>\n",
              "    </tr>\n",
              "    <tr>\n",
              "      <th>113</th>\n",
              "      <td>2014</td>\n",
              "      <td>23.83</td>\n",
              "      <td>25.97</td>\n",
              "      <td>28.95</td>\n",
              "      <td>32.74</td>\n",
              "      <td>33.77</td>\n",
              "      <td>34.15</td>\n",
              "      <td>31.85</td>\n",
              "      <td>31.32</td>\n",
              "      <td>30.68</td>\n",
              "      <td>30.29</td>\n",
              "      <td>28.05</td>\n",
              "      <td>25.08</td>\n",
              "      <td>29.72</td>\n",
              "      <td>24.90</td>\n",
              "      <td>31.82</td>\n",
              "      <td>32.00</td>\n",
              "      <td>27.81</td>\n",
              "    </tr>\n",
              "    <tr>\n",
              "      <th>114</th>\n",
              "      <td>2015</td>\n",
              "      <td>24.58</td>\n",
              "      <td>26.89</td>\n",
              "      <td>29.07</td>\n",
              "      <td>31.87</td>\n",
              "      <td>34.09</td>\n",
              "      <td>32.48</td>\n",
              "      <td>31.88</td>\n",
              "      <td>31.52</td>\n",
              "      <td>31.55</td>\n",
              "      <td>31.04</td>\n",
              "      <td>28.10</td>\n",
              "      <td>25.67</td>\n",
              "      <td>29.90</td>\n",
              "      <td>25.74</td>\n",
              "      <td>31.68</td>\n",
              "      <td>31.87</td>\n",
              "      <td>28.27</td>\n",
              "    </tr>\n",
              "    <tr>\n",
              "      <th>115</th>\n",
              "      <td>2016</td>\n",
              "      <td>26.94</td>\n",
              "      <td>29.72</td>\n",
              "      <td>32.62</td>\n",
              "      <td>35.38</td>\n",
              "      <td>35.72</td>\n",
              "      <td>34.03</td>\n",
              "      <td>31.64</td>\n",
              "      <td>31.79</td>\n",
              "      <td>31.66</td>\n",
              "      <td>31.98</td>\n",
              "      <td>30.11</td>\n",
              "      <td>28.01</td>\n",
              "      <td>31.63</td>\n",
              "      <td>28.33</td>\n",
              "      <td>34.57</td>\n",
              "      <td>32.28</td>\n",
              "      <td>30.03</td>\n",
              "    </tr>\n",
              "    <tr>\n",
              "      <th>116</th>\n",
              "      <td>2017</td>\n",
              "      <td>26.45</td>\n",
              "      <td>29.46</td>\n",
              "      <td>31.60</td>\n",
              "      <td>34.95</td>\n",
              "      <td>35.84</td>\n",
              "      <td>33.82</td>\n",
              "      <td>31.88</td>\n",
              "      <td>31.72</td>\n",
              "      <td>32.22</td>\n",
              "      <td>32.29</td>\n",
              "      <td>29.60</td>\n",
              "      <td>27.18</td>\n",
              "      <td>31.42</td>\n",
              "      <td>27.95</td>\n",
              "      <td>34.13</td>\n",
              "      <td>32.41</td>\n",
              "      <td>29.69</td>\n",
              "    </tr>\n",
              "  </tbody>\n",
              "</table>\n",
              "</div>\n",
              "    <div class=\"colab-df-buttons\">\n",
              "\n",
              "  <div class=\"colab-df-container\">\n",
              "    <button class=\"colab-df-convert\" onclick=\"convertToInteractive('df-dba567ab-cf99-4e83-bd1f-502d0e012d13')\"\n",
              "            title=\"Convert this dataframe to an interactive table.\"\n",
              "            style=\"display:none;\">\n",
              "\n",
              "  <svg xmlns=\"http://www.w3.org/2000/svg\" height=\"24px\" viewBox=\"0 -960 960 960\">\n",
              "    <path d=\"M120-120v-720h720v720H120Zm60-500h600v-160H180v160Zm220 220h160v-160H400v160Zm0 220h160v-160H400v160ZM180-400h160v-160H180v160Zm440 0h160v-160H620v160ZM180-180h160v-160H180v160Zm440 0h160v-160H620v160Z\"/>\n",
              "  </svg>\n",
              "    </button>\n",
              "\n",
              "  <style>\n",
              "    .colab-df-container {\n",
              "      display:flex;\n",
              "      gap: 12px;\n",
              "    }\n",
              "\n",
              "    .colab-df-convert {\n",
              "      background-color: #E8F0FE;\n",
              "      border: none;\n",
              "      border-radius: 50%;\n",
              "      cursor: pointer;\n",
              "      display: none;\n",
              "      fill: #1967D2;\n",
              "      height: 32px;\n",
              "      padding: 0 0 0 0;\n",
              "      width: 32px;\n",
              "    }\n",
              "\n",
              "    .colab-df-convert:hover {\n",
              "      background-color: #E2EBFA;\n",
              "      box-shadow: 0px 1px 2px rgba(60, 64, 67, 0.3), 0px 1px 3px 1px rgba(60, 64, 67, 0.15);\n",
              "      fill: #174EA6;\n",
              "    }\n",
              "\n",
              "    .colab-df-buttons div {\n",
              "      margin-bottom: 4px;\n",
              "    }\n",
              "\n",
              "    [theme=dark] .colab-df-convert {\n",
              "      background-color: #3B4455;\n",
              "      fill: #D2E3FC;\n",
              "    }\n",
              "\n",
              "    [theme=dark] .colab-df-convert:hover {\n",
              "      background-color: #434B5C;\n",
              "      box-shadow: 0px 1px 3px 1px rgba(0, 0, 0, 0.15);\n",
              "      filter: drop-shadow(0px 1px 2px rgba(0, 0, 0, 0.3));\n",
              "      fill: #FFFFFF;\n",
              "    }\n",
              "  </style>\n",
              "\n",
              "    <script>\n",
              "      const buttonEl =\n",
              "        document.querySelector('#df-dba567ab-cf99-4e83-bd1f-502d0e012d13 button.colab-df-convert');\n",
              "      buttonEl.style.display =\n",
              "        google.colab.kernel.accessAllowed ? 'block' : 'none';\n",
              "\n",
              "      async function convertToInteractive(key) {\n",
              "        const element = document.querySelector('#df-dba567ab-cf99-4e83-bd1f-502d0e012d13');\n",
              "        const dataTable =\n",
              "          await google.colab.kernel.invokeFunction('convertToInteractive',\n",
              "                                                    [key], {});\n",
              "        if (!dataTable) return;\n",
              "\n",
              "        const docLinkHtml = 'Like what you see? Visit the ' +\n",
              "          '<a target=\"_blank\" href=https://colab.research.google.com/notebooks/data_table.ipynb>data table notebook</a>'\n",
              "          + ' to learn more about interactive tables.';\n",
              "        element.innerHTML = '';\n",
              "        dataTable['output_type'] = 'display_data';\n",
              "        await google.colab.output.renderOutput(dataTable, element);\n",
              "        const docLink = document.createElement('div');\n",
              "        docLink.innerHTML = docLinkHtml;\n",
              "        element.appendChild(docLink);\n",
              "      }\n",
              "    </script>\n",
              "  </div>\n",
              "\n",
              "\n",
              "<div id=\"df-3707df46-cfdd-41e0-ab17-b7d85b597551\">\n",
              "  <button class=\"colab-df-quickchart\" onclick=\"quickchart('df-3707df46-cfdd-41e0-ab17-b7d85b597551')\"\n",
              "            title=\"Suggest charts\"\n",
              "            style=\"display:none;\">\n",
              "\n",
              "<svg xmlns=\"http://www.w3.org/2000/svg\" height=\"24px\"viewBox=\"0 0 24 24\"\n",
              "     width=\"24px\">\n",
              "    <g>\n",
              "        <path d=\"M19 3H5c-1.1 0-2 .9-2 2v14c0 1.1.9 2 2 2h14c1.1 0 2-.9 2-2V5c0-1.1-.9-2-2-2zM9 17H7v-7h2v7zm4 0h-2V7h2v10zm4 0h-2v-4h2v4z\"/>\n",
              "    </g>\n",
              "</svg>\n",
              "  </button>\n",
              "\n",
              "<style>\n",
              "  .colab-df-quickchart {\n",
              "      --bg-color: #E8F0FE;\n",
              "      --fill-color: #1967D2;\n",
              "      --hover-bg-color: #E2EBFA;\n",
              "      --hover-fill-color: #174EA6;\n",
              "      --disabled-fill-color: #AAA;\n",
              "      --disabled-bg-color: #DDD;\n",
              "  }\n",
              "\n",
              "  [theme=dark] .colab-df-quickchart {\n",
              "      --bg-color: #3B4455;\n",
              "      --fill-color: #D2E3FC;\n",
              "      --hover-bg-color: #434B5C;\n",
              "      --hover-fill-color: #FFFFFF;\n",
              "      --disabled-bg-color: #3B4455;\n",
              "      --disabled-fill-color: #666;\n",
              "  }\n",
              "\n",
              "  .colab-df-quickchart {\n",
              "    background-color: var(--bg-color);\n",
              "    border: none;\n",
              "    border-radius: 50%;\n",
              "    cursor: pointer;\n",
              "    display: none;\n",
              "    fill: var(--fill-color);\n",
              "    height: 32px;\n",
              "    padding: 0;\n",
              "    width: 32px;\n",
              "  }\n",
              "\n",
              "  .colab-df-quickchart:hover {\n",
              "    background-color: var(--hover-bg-color);\n",
              "    box-shadow: 0 1px 2px rgba(60, 64, 67, 0.3), 0 1px 3px 1px rgba(60, 64, 67, 0.15);\n",
              "    fill: var(--button-hover-fill-color);\n",
              "  }\n",
              "\n",
              "  .colab-df-quickchart-complete:disabled,\n",
              "  .colab-df-quickchart-complete:disabled:hover {\n",
              "    background-color: var(--disabled-bg-color);\n",
              "    fill: var(--disabled-fill-color);\n",
              "    box-shadow: none;\n",
              "  }\n",
              "\n",
              "  .colab-df-spinner {\n",
              "    border: 2px solid var(--fill-color);\n",
              "    border-color: transparent;\n",
              "    border-bottom-color: var(--fill-color);\n",
              "    animation:\n",
              "      spin 1s steps(1) infinite;\n",
              "  }\n",
              "\n",
              "  @keyframes spin {\n",
              "    0% {\n",
              "      border-color: transparent;\n",
              "      border-bottom-color: var(--fill-color);\n",
              "      border-left-color: var(--fill-color);\n",
              "    }\n",
              "    20% {\n",
              "      border-color: transparent;\n",
              "      border-left-color: var(--fill-color);\n",
              "      border-top-color: var(--fill-color);\n",
              "    }\n",
              "    30% {\n",
              "      border-color: transparent;\n",
              "      border-left-color: var(--fill-color);\n",
              "      border-top-color: var(--fill-color);\n",
              "      border-right-color: var(--fill-color);\n",
              "    }\n",
              "    40% {\n",
              "      border-color: transparent;\n",
              "      border-right-color: var(--fill-color);\n",
              "      border-top-color: var(--fill-color);\n",
              "    }\n",
              "    60% {\n",
              "      border-color: transparent;\n",
              "      border-right-color: var(--fill-color);\n",
              "    }\n",
              "    80% {\n",
              "      border-color: transparent;\n",
              "      border-right-color: var(--fill-color);\n",
              "      border-bottom-color: var(--fill-color);\n",
              "    }\n",
              "    90% {\n",
              "      border-color: transparent;\n",
              "      border-bottom-color: var(--fill-color);\n",
              "    }\n",
              "  }\n",
              "</style>\n",
              "\n",
              "  <script>\n",
              "    async function quickchart(key) {\n",
              "      const quickchartButtonEl =\n",
              "        document.querySelector('#' + key + ' button');\n",
              "      quickchartButtonEl.disabled = true;  // To prevent multiple clicks.\n",
              "      quickchartButtonEl.classList.add('colab-df-spinner');\n",
              "      try {\n",
              "        const charts = await google.colab.kernel.invokeFunction(\n",
              "            'suggestCharts', [key], {});\n",
              "      } catch (error) {\n",
              "        console.error('Error during call to suggestCharts:', error);\n",
              "      }\n",
              "      quickchartButtonEl.classList.remove('colab-df-spinner');\n",
              "      quickchartButtonEl.classList.add('colab-df-quickchart-complete');\n",
              "    }\n",
              "    (() => {\n",
              "      let quickchartButtonEl =\n",
              "        document.querySelector('#df-3707df46-cfdd-41e0-ab17-b7d85b597551 button');\n",
              "      quickchartButtonEl.style.display =\n",
              "        google.colab.kernel.accessAllowed ? 'block' : 'none';\n",
              "    })();\n",
              "  </script>\n",
              "</div>\n",
              "    </div>\n",
              "  </div>\n"
            ],
            "application/vnd.google.colaboratory.intrinsic+json": {
              "type": "dataframe",
              "summary": "{\n  \"name\": \"temperature\",\n  \"rows\": 5,\n  \"fields\": [\n    {\n      \"column\": \"YEAR\",\n      \"properties\": {\n        \"dtype\": \"number\",\n        \"std\": 1,\n        \"min\": 2013,\n        \"max\": 2017,\n        \"num_unique_values\": 5,\n        \"samples\": [\n          2014,\n          2017,\n          2015\n        ],\n        \"semantic_type\": \"\",\n        \"description\": \"\"\n      }\n    },\n    {\n      \"column\": \"JAN\",\n      \"properties\": {\n        \"dtype\": \"number\",\n        \"std\": 1.3449052011201394,\n        \"min\": 23.83,\n        \"max\": 26.94,\n        \"num_unique_values\": 5,\n        \"samples\": [\n          23.83,\n          26.45,\n          24.58\n        ],\n        \"semantic_type\": \"\",\n        \"description\": \"\"\n      }\n    },\n    {\n      \"column\": \"FEB\",\n      \"properties\": {\n        \"dtype\": \"number\",\n        \"std\": 1.7360673950051595,\n        \"min\": 25.97,\n        \"max\": 29.72,\n        \"num_unique_values\": 5,\n        \"samples\": [\n          25.97,\n          29.46,\n          26.89\n        ],\n        \"semantic_type\": \"\",\n        \"description\": \"\"\n      }\n    },\n    {\n      \"column\": \"MAR\",\n      \"properties\": {\n        \"dtype\": \"number\",\n        \"std\": 1.5921903152575694,\n        \"min\": 28.95,\n        \"max\": 32.62,\n        \"num_unique_values\": 5,\n        \"samples\": [\n          28.95,\n          31.6,\n          29.07\n        ],\n        \"semantic_type\": \"\",\n        \"description\": \"\"\n      }\n    },\n    {\n      \"column\": \"APR\",\n      \"properties\": {\n        \"dtype\": \"number\",\n        \"std\": 1.5471748446765816,\n        \"min\": 31.87,\n        \"max\": 35.38,\n        \"num_unique_values\": 5,\n        \"samples\": [\n          32.74,\n          34.95,\n          31.87\n        ],\n        \"semantic_type\": \"\",\n        \"description\": \"\"\n      }\n    },\n    {\n      \"column\": \"MAY\",\n      \"properties\": {\n        \"dtype\": \"number\",\n        \"std\": 0.9494366750868635,\n        \"min\": 33.77,\n        \"max\": 35.84,\n        \"num_unique_values\": 5,\n        \"samples\": [\n          33.77,\n          35.84,\n          34.09\n        ],\n        \"semantic_type\": \"\",\n        \"description\": \"\"\n      }\n    },\n    {\n      \"column\": \"JUN\",\n      \"properties\": {\n        \"dtype\": \"number\",\n        \"std\": 0.8518391867013412,\n        \"min\": 32.44,\n        \"max\": 34.15,\n        \"num_unique_values\": 5,\n        \"samples\": [\n          34.15,\n          33.82,\n          32.48\n        ],\n        \"semantic_type\": \"\",\n        \"description\": \"\"\n      }\n    },\n    {\n      \"column\": \"JUL\",\n      \"properties\": {\n        \"dtype\": \"number\",\n        \"std\": 0.346886148469494,\n        \"min\": 31.07,\n        \"max\": 31.88,\n        \"num_unique_values\": 4,\n        \"samples\": [\n          31.85,\n          31.64,\n          31.07\n        ],\n        \"semantic_type\": \"\",\n        \"description\": \"\"\n      }\n    },\n    {\n      \"column\": \"AUG\",\n      \"properties\": {\n        \"dtype\": \"number\",\n        \"std\": 0.41306173872679025,\n        \"min\": 30.76,\n        \"max\": 31.79,\n        \"num_unique_values\": 5,\n        \"samples\": [\n          31.32,\n          31.72,\n          31.52\n        ],\n        \"semantic_type\": \"\",\n        \"description\": \"\"\n      }\n    },\n    {\n      \"column\": \"SEP\",\n      \"properties\": {\n        \"dtype\": \"number\",\n        \"std\": 0.5928743543112655,\n        \"min\": 30.68,\n        \"max\": 32.22,\n        \"num_unique_values\": 5,\n        \"samples\": [\n          30.68,\n          32.22,\n          31.55\n        ],\n        \"semantic_type\": \"\",\n        \"description\": \"\"\n      }\n    },\n    {\n      \"column\": \"OCT\",\n      \"properties\": {\n        \"dtype\": \"number\",\n        \"std\": 0.9369791886696311,\n        \"min\": 30.27,\n        \"max\": 32.29,\n        \"num_unique_values\": 5,\n        \"samples\": [\n          30.29,\n          32.29,\n          31.04\n        ],\n        \"semantic_type\": \"\",\n        \"description\": \"\"\n      }\n    },\n    {\n      \"column\": \"NOV\",\n      \"properties\": {\n        \"dtype\": \"number\",\n        \"std\": 1.0404662416436201,\n        \"min\": 27.83,\n        \"max\": 30.11,\n        \"num_unique_values\": 5,\n        \"samples\": [\n          28.05,\n          29.6,\n          28.1\n        ],\n        \"semantic_type\": \"\",\n        \"description\": \"\"\n      }\n    },\n    {\n      \"column\": \"DEC\",\n      \"properties\": {\n        \"dtype\": \"number\",\n        \"std\": 1.2690035460943367,\n        \"min\": 25.08,\n        \"max\": 28.01,\n        \"num_unique_values\": 5,\n        \"samples\": [\n          25.08,\n          27.18,\n          25.67\n        ],\n        \"semantic_type\": \"\",\n        \"description\": \"\"\n      }\n    },\n    {\n      \"column\": \"ANNUAL\",\n      \"properties\": {\n        \"dtype\": \"number\",\n        \"std\": 0.9444204572117239,\n        \"min\": 29.72,\n        \"max\": 31.63,\n        \"num_unique_values\": 5,\n        \"samples\": [\n          29.72,\n          31.42,\n          29.9\n        ],\n        \"semantic_type\": \"\",\n        \"description\": \"\"\n      }\n    },\n    {\n      \"column\": \"JAN-FEB\",\n      \"properties\": {\n        \"dtype\": \"number\",\n        \"std\": 1.53585481084639,\n        \"min\": 24.9,\n        \"max\": 28.33,\n        \"num_unique_values\": 5,\n        \"samples\": [\n          24.9,\n          27.95,\n          25.74\n        ],\n        \"semantic_type\": \"\",\n        \"description\": \"\"\n      }\n    },\n    {\n      \"column\": \"MAR-MAY\",\n      \"properties\": {\n        \"dtype\": \"number\",\n        \"std\": 1.3269626972903201,\n        \"min\": 31.68,\n        \"max\": 34.57,\n        \"num_unique_values\": 5,\n        \"samples\": [\n          31.82,\n          34.13,\n          31.68\n        ],\n        \"semantic_type\": \"\",\n        \"description\": \"\"\n      }\n    },\n    {\n      \"column\": \"JUN-SEP\",\n      \"properties\": {\n        \"dtype\": \"number\",\n        \"std\": 0.4212718837045738,\n        \"min\": 31.33,\n        \"max\": 32.41,\n        \"num_unique_values\": 5,\n        \"samples\": [\n          32.0,\n          32.41,\n          31.87\n        ],\n        \"semantic_type\": \"\",\n        \"description\": \"\"\n      }\n    },\n    {\n      \"column\": \"OCT-DEC\",\n      \"properties\": {\n        \"dtype\": \"number\",\n        \"std\": 1.0582438282361977,\n        \"min\": 27.81,\n        \"max\": 30.03,\n        \"num_unique_values\": 5,\n        \"samples\": [\n          27.81,\n          29.69,\n          28.27\n        ],\n        \"semantic_type\": \"\",\n        \"description\": \"\"\n      }\n    }\n  ]\n}"
            }
          },
          "metadata": {},
          "execution_count": 4
        }
      ]
    },
    {
      "cell_type": "code",
      "source": [
        "temperature.info()"
      ],
      "metadata": {
        "colab": {
          "base_uri": "https://localhost:8080/"
        },
        "id": "ublZLfMxQ-5p",
        "outputId": "45e24aec-665e-4647-f74b-859dee1edb83"
      },
      "execution_count": null,
      "outputs": [
        {
          "output_type": "stream",
          "name": "stdout",
          "text": [
            "<class 'pandas.core.frame.DataFrame'>\n",
            "RangeIndex: 117 entries, 0 to 116\n",
            "Data columns (total 18 columns):\n",
            " #   Column   Non-Null Count  Dtype  \n",
            "---  ------   --------------  -----  \n",
            " 0   YEAR     117 non-null    int64  \n",
            " 1   JAN      117 non-null    float64\n",
            " 2   FEB      117 non-null    float64\n",
            " 3   MAR      117 non-null    float64\n",
            " 4   APR      117 non-null    float64\n",
            " 5   MAY      117 non-null    float64\n",
            " 6   JUN      117 non-null    float64\n",
            " 7   JUL      117 non-null    float64\n",
            " 8   AUG      117 non-null    float64\n",
            " 9   SEP      117 non-null    float64\n",
            " 10  OCT      117 non-null    float64\n",
            " 11  NOV      117 non-null    float64\n",
            " 12  DEC      117 non-null    float64\n",
            " 13  ANNUAL   117 non-null    float64\n",
            " 14  JAN-FEB  117 non-null    float64\n",
            " 15  MAR-MAY  117 non-null    float64\n",
            " 16  JUN-SEP  117 non-null    float64\n",
            " 17  OCT-DEC  117 non-null    float64\n",
            "dtypes: float64(17), int64(1)\n",
            "memory usage: 16.6 KB\n"
          ]
        }
      ]
    },
    {
      "cell_type": "code",
      "source": [
        "temperature.shape"
      ],
      "metadata": {
        "colab": {
          "base_uri": "https://localhost:8080/"
        },
        "id": "4-gjji1_RIW5",
        "outputId": "042ca085-4d00-499f-cf8a-471a7724346f"
      },
      "execution_count": null,
      "outputs": [
        {
          "output_type": "execute_result",
          "data": {
            "text/plain": [
              "(117, 18)"
            ]
          },
          "metadata": {},
          "execution_count": 6
        }
      ]
    },
    {
      "cell_type": "code",
      "source": [
        "temperature.describe()"
      ],
      "metadata": {
        "colab": {
          "base_uri": "https://localhost:8080/",
          "height": 320
        },
        "id": "8wJutHi7RQyN",
        "outputId": "0b8e4885-757f-4b3f-b3a0-dfbab6a9d206"
      },
      "execution_count": null,
      "outputs": [
        {
          "output_type": "execute_result",
          "data": {
            "text/plain": [
              "              YEAR         JAN         FEB         MAR         APR  \\\n",
              "count   117.000000  117.000000  117.000000  117.000000  117.000000   \n",
              "mean   1959.000000   23.687436   25.597863   29.085983   31.975812   \n",
              "std      33.919021    0.834588    1.150757    1.068451    0.889478   \n",
              "min    1901.000000   22.000000   22.830000   26.680000   30.010000   \n",
              "25%    1930.000000   23.100000   24.780000   28.370000   31.460000   \n",
              "50%    1959.000000   23.680000   25.480000   29.040000   31.950000   \n",
              "75%    1988.000000   24.180000   26.310000   29.610000   32.420000   \n",
              "max    2017.000000   26.940000   29.720000   32.620000   35.380000   \n",
              "\n",
              "              MAY         JUN         JUL         AUG         SEP         OCT  \\\n",
              "count  117.000000  117.000000  117.000000  117.000000  117.000000  117.000000   \n",
              "mean    33.565299   32.774274   31.035897   30.507692   30.486752   29.766581   \n",
              "std      0.724905    0.633132    0.468818    0.476312    0.544295    0.705492   \n",
              "min     31.930000   31.100000   29.760000   29.310000   29.070000   27.900000   \n",
              "25%     33.110000   32.340000   30.740000   30.180000   30.120000   29.380000   \n",
              "50%     33.510000   32.730000   31.000000   30.540000   30.520000   29.780000   \n",
              "75%     34.030000   33.180000   31.330000   30.760000   30.810000   30.170000   \n",
              "max     35.840000   34.480000   32.760000   31.840000   32.220000   32.290000   \n",
              "\n",
              "              NOV         DEC      ANNUAL     JAN-FEB     MAR-MAY     JUN-SEP  \\\n",
              "count  117.000000  117.000000  117.000000  117.000000  117.000000  117.000000   \n",
              "mean    27.285470   24.608291   29.181368   24.629573   31.517607   31.198205   \n",
              "std      0.714518    0.782644    0.555555    0.911239    0.740585    0.420508   \n",
              "min     25.700000   23.020000   28.110000   22.250000   29.920000   30.240000   \n",
              "25%     26.790000   24.040000   28.760000   24.110000   31.040000   30.920000   \n",
              "50%     27.300000   24.660000   29.090000   24.530000   31.470000   31.190000   \n",
              "75%     27.720000   25.110000   29.470000   25.150000   31.890000   31.400000   \n",
              "max     30.110000   28.010000   31.630000   28.330000   34.570000   32.410000   \n",
              "\n",
              "          OCT-DEC  \n",
              "count  117.000000  \n",
              "mean    27.208120  \n",
              "std      0.672003  \n",
              "min     25.740000  \n",
              "25%     26.700000  \n",
              "50%     27.210000  \n",
              "75%     27.610000  \n",
              "max     30.030000  "
            ],
            "text/html": [
              "\n",
              "  <div id=\"df-44219630-c44a-4aa5-b74e-109b0608dd66\" class=\"colab-df-container\">\n",
              "    <div>\n",
              "<style scoped>\n",
              "    .dataframe tbody tr th:only-of-type {\n",
              "        vertical-align: middle;\n",
              "    }\n",
              "\n",
              "    .dataframe tbody tr th {\n",
              "        vertical-align: top;\n",
              "    }\n",
              "\n",
              "    .dataframe thead th {\n",
              "        text-align: right;\n",
              "    }\n",
              "</style>\n",
              "<table border=\"1\" class=\"dataframe\">\n",
              "  <thead>\n",
              "    <tr style=\"text-align: right;\">\n",
              "      <th></th>\n",
              "      <th>YEAR</th>\n",
              "      <th>JAN</th>\n",
              "      <th>FEB</th>\n",
              "      <th>MAR</th>\n",
              "      <th>APR</th>\n",
              "      <th>MAY</th>\n",
              "      <th>JUN</th>\n",
              "      <th>JUL</th>\n",
              "      <th>AUG</th>\n",
              "      <th>SEP</th>\n",
              "      <th>OCT</th>\n",
              "      <th>NOV</th>\n",
              "      <th>DEC</th>\n",
              "      <th>ANNUAL</th>\n",
              "      <th>JAN-FEB</th>\n",
              "      <th>MAR-MAY</th>\n",
              "      <th>JUN-SEP</th>\n",
              "      <th>OCT-DEC</th>\n",
              "    </tr>\n",
              "  </thead>\n",
              "  <tbody>\n",
              "    <tr>\n",
              "      <th>count</th>\n",
              "      <td>117.000000</td>\n",
              "      <td>117.000000</td>\n",
              "      <td>117.000000</td>\n",
              "      <td>117.000000</td>\n",
              "      <td>117.000000</td>\n",
              "      <td>117.000000</td>\n",
              "      <td>117.000000</td>\n",
              "      <td>117.000000</td>\n",
              "      <td>117.000000</td>\n",
              "      <td>117.000000</td>\n",
              "      <td>117.000000</td>\n",
              "      <td>117.000000</td>\n",
              "      <td>117.000000</td>\n",
              "      <td>117.000000</td>\n",
              "      <td>117.000000</td>\n",
              "      <td>117.000000</td>\n",
              "      <td>117.000000</td>\n",
              "      <td>117.000000</td>\n",
              "    </tr>\n",
              "    <tr>\n",
              "      <th>mean</th>\n",
              "      <td>1959.000000</td>\n",
              "      <td>23.687436</td>\n",
              "      <td>25.597863</td>\n",
              "      <td>29.085983</td>\n",
              "      <td>31.975812</td>\n",
              "      <td>33.565299</td>\n",
              "      <td>32.774274</td>\n",
              "      <td>31.035897</td>\n",
              "      <td>30.507692</td>\n",
              "      <td>30.486752</td>\n",
              "      <td>29.766581</td>\n",
              "      <td>27.285470</td>\n",
              "      <td>24.608291</td>\n",
              "      <td>29.181368</td>\n",
              "      <td>24.629573</td>\n",
              "      <td>31.517607</td>\n",
              "      <td>31.198205</td>\n",
              "      <td>27.208120</td>\n",
              "    </tr>\n",
              "    <tr>\n",
              "      <th>std</th>\n",
              "      <td>33.919021</td>\n",
              "      <td>0.834588</td>\n",
              "      <td>1.150757</td>\n",
              "      <td>1.068451</td>\n",
              "      <td>0.889478</td>\n",
              "      <td>0.724905</td>\n",
              "      <td>0.633132</td>\n",
              "      <td>0.468818</td>\n",
              "      <td>0.476312</td>\n",
              "      <td>0.544295</td>\n",
              "      <td>0.705492</td>\n",
              "      <td>0.714518</td>\n",
              "      <td>0.782644</td>\n",
              "      <td>0.555555</td>\n",
              "      <td>0.911239</td>\n",
              "      <td>0.740585</td>\n",
              "      <td>0.420508</td>\n",
              "      <td>0.672003</td>\n",
              "    </tr>\n",
              "    <tr>\n",
              "      <th>min</th>\n",
              "      <td>1901.000000</td>\n",
              "      <td>22.000000</td>\n",
              "      <td>22.830000</td>\n",
              "      <td>26.680000</td>\n",
              "      <td>30.010000</td>\n",
              "      <td>31.930000</td>\n",
              "      <td>31.100000</td>\n",
              "      <td>29.760000</td>\n",
              "      <td>29.310000</td>\n",
              "      <td>29.070000</td>\n",
              "      <td>27.900000</td>\n",
              "      <td>25.700000</td>\n",
              "      <td>23.020000</td>\n",
              "      <td>28.110000</td>\n",
              "      <td>22.250000</td>\n",
              "      <td>29.920000</td>\n",
              "      <td>30.240000</td>\n",
              "      <td>25.740000</td>\n",
              "    </tr>\n",
              "    <tr>\n",
              "      <th>25%</th>\n",
              "      <td>1930.000000</td>\n",
              "      <td>23.100000</td>\n",
              "      <td>24.780000</td>\n",
              "      <td>28.370000</td>\n",
              "      <td>31.460000</td>\n",
              "      <td>33.110000</td>\n",
              "      <td>32.340000</td>\n",
              "      <td>30.740000</td>\n",
              "      <td>30.180000</td>\n",
              "      <td>30.120000</td>\n",
              "      <td>29.380000</td>\n",
              "      <td>26.790000</td>\n",
              "      <td>24.040000</td>\n",
              "      <td>28.760000</td>\n",
              "      <td>24.110000</td>\n",
              "      <td>31.040000</td>\n",
              "      <td>30.920000</td>\n",
              "      <td>26.700000</td>\n",
              "    </tr>\n",
              "    <tr>\n",
              "      <th>50%</th>\n",
              "      <td>1959.000000</td>\n",
              "      <td>23.680000</td>\n",
              "      <td>25.480000</td>\n",
              "      <td>29.040000</td>\n",
              "      <td>31.950000</td>\n",
              "      <td>33.510000</td>\n",
              "      <td>32.730000</td>\n",
              "      <td>31.000000</td>\n",
              "      <td>30.540000</td>\n",
              "      <td>30.520000</td>\n",
              "      <td>29.780000</td>\n",
              "      <td>27.300000</td>\n",
              "      <td>24.660000</td>\n",
              "      <td>29.090000</td>\n",
              "      <td>24.530000</td>\n",
              "      <td>31.470000</td>\n",
              "      <td>31.190000</td>\n",
              "      <td>27.210000</td>\n",
              "    </tr>\n",
              "    <tr>\n",
              "      <th>75%</th>\n",
              "      <td>1988.000000</td>\n",
              "      <td>24.180000</td>\n",
              "      <td>26.310000</td>\n",
              "      <td>29.610000</td>\n",
              "      <td>32.420000</td>\n",
              "      <td>34.030000</td>\n",
              "      <td>33.180000</td>\n",
              "      <td>31.330000</td>\n",
              "      <td>30.760000</td>\n",
              "      <td>30.810000</td>\n",
              "      <td>30.170000</td>\n",
              "      <td>27.720000</td>\n",
              "      <td>25.110000</td>\n",
              "      <td>29.470000</td>\n",
              "      <td>25.150000</td>\n",
              "      <td>31.890000</td>\n",
              "      <td>31.400000</td>\n",
              "      <td>27.610000</td>\n",
              "    </tr>\n",
              "    <tr>\n",
              "      <th>max</th>\n",
              "      <td>2017.000000</td>\n",
              "      <td>26.940000</td>\n",
              "      <td>29.720000</td>\n",
              "      <td>32.620000</td>\n",
              "      <td>35.380000</td>\n",
              "      <td>35.840000</td>\n",
              "      <td>34.480000</td>\n",
              "      <td>32.760000</td>\n",
              "      <td>31.840000</td>\n",
              "      <td>32.220000</td>\n",
              "      <td>32.290000</td>\n",
              "      <td>30.110000</td>\n",
              "      <td>28.010000</td>\n",
              "      <td>31.630000</td>\n",
              "      <td>28.330000</td>\n",
              "      <td>34.570000</td>\n",
              "      <td>32.410000</td>\n",
              "      <td>30.030000</td>\n",
              "    </tr>\n",
              "  </tbody>\n",
              "</table>\n",
              "</div>\n",
              "    <div class=\"colab-df-buttons\">\n",
              "\n",
              "  <div class=\"colab-df-container\">\n",
              "    <button class=\"colab-df-convert\" onclick=\"convertToInteractive('df-44219630-c44a-4aa5-b74e-109b0608dd66')\"\n",
              "            title=\"Convert this dataframe to an interactive table.\"\n",
              "            style=\"display:none;\">\n",
              "\n",
              "  <svg xmlns=\"http://www.w3.org/2000/svg\" height=\"24px\" viewBox=\"0 -960 960 960\">\n",
              "    <path d=\"M120-120v-720h720v720H120Zm60-500h600v-160H180v160Zm220 220h160v-160H400v160Zm0 220h160v-160H400v160ZM180-400h160v-160H180v160Zm440 0h160v-160H620v160ZM180-180h160v-160H180v160Zm440 0h160v-160H620v160Z\"/>\n",
              "  </svg>\n",
              "    </button>\n",
              "\n",
              "  <style>\n",
              "    .colab-df-container {\n",
              "      display:flex;\n",
              "      gap: 12px;\n",
              "    }\n",
              "\n",
              "    .colab-df-convert {\n",
              "      background-color: #E8F0FE;\n",
              "      border: none;\n",
              "      border-radius: 50%;\n",
              "      cursor: pointer;\n",
              "      display: none;\n",
              "      fill: #1967D2;\n",
              "      height: 32px;\n",
              "      padding: 0 0 0 0;\n",
              "      width: 32px;\n",
              "    }\n",
              "\n",
              "    .colab-df-convert:hover {\n",
              "      background-color: #E2EBFA;\n",
              "      box-shadow: 0px 1px 2px rgba(60, 64, 67, 0.3), 0px 1px 3px 1px rgba(60, 64, 67, 0.15);\n",
              "      fill: #174EA6;\n",
              "    }\n",
              "\n",
              "    .colab-df-buttons div {\n",
              "      margin-bottom: 4px;\n",
              "    }\n",
              "\n",
              "    [theme=dark] .colab-df-convert {\n",
              "      background-color: #3B4455;\n",
              "      fill: #D2E3FC;\n",
              "    }\n",
              "\n",
              "    [theme=dark] .colab-df-convert:hover {\n",
              "      background-color: #434B5C;\n",
              "      box-shadow: 0px 1px 3px 1px rgba(0, 0, 0, 0.15);\n",
              "      filter: drop-shadow(0px 1px 2px rgba(0, 0, 0, 0.3));\n",
              "      fill: #FFFFFF;\n",
              "    }\n",
              "  </style>\n",
              "\n",
              "    <script>\n",
              "      const buttonEl =\n",
              "        document.querySelector('#df-44219630-c44a-4aa5-b74e-109b0608dd66 button.colab-df-convert');\n",
              "      buttonEl.style.display =\n",
              "        google.colab.kernel.accessAllowed ? 'block' : 'none';\n",
              "\n",
              "      async function convertToInteractive(key) {\n",
              "        const element = document.querySelector('#df-44219630-c44a-4aa5-b74e-109b0608dd66');\n",
              "        const dataTable =\n",
              "          await google.colab.kernel.invokeFunction('convertToInteractive',\n",
              "                                                    [key], {});\n",
              "        if (!dataTable) return;\n",
              "\n",
              "        const docLinkHtml = 'Like what you see? Visit the ' +\n",
              "          '<a target=\"_blank\" href=https://colab.research.google.com/notebooks/data_table.ipynb>data table notebook</a>'\n",
              "          + ' to learn more about interactive tables.';\n",
              "        element.innerHTML = '';\n",
              "        dataTable['output_type'] = 'display_data';\n",
              "        await google.colab.output.renderOutput(dataTable, element);\n",
              "        const docLink = document.createElement('div');\n",
              "        docLink.innerHTML = docLinkHtml;\n",
              "        element.appendChild(docLink);\n",
              "      }\n",
              "    </script>\n",
              "  </div>\n",
              "\n",
              "\n",
              "<div id=\"df-877b6254-ecb9-4333-9d8e-78db5cc395be\">\n",
              "  <button class=\"colab-df-quickchart\" onclick=\"quickchart('df-877b6254-ecb9-4333-9d8e-78db5cc395be')\"\n",
              "            title=\"Suggest charts\"\n",
              "            style=\"display:none;\">\n",
              "\n",
              "<svg xmlns=\"http://www.w3.org/2000/svg\" height=\"24px\"viewBox=\"0 0 24 24\"\n",
              "     width=\"24px\">\n",
              "    <g>\n",
              "        <path d=\"M19 3H5c-1.1 0-2 .9-2 2v14c0 1.1.9 2 2 2h14c1.1 0 2-.9 2-2V5c0-1.1-.9-2-2-2zM9 17H7v-7h2v7zm4 0h-2V7h2v10zm4 0h-2v-4h2v4z\"/>\n",
              "    </g>\n",
              "</svg>\n",
              "  </button>\n",
              "\n",
              "<style>\n",
              "  .colab-df-quickchart {\n",
              "      --bg-color: #E8F0FE;\n",
              "      --fill-color: #1967D2;\n",
              "      --hover-bg-color: #E2EBFA;\n",
              "      --hover-fill-color: #174EA6;\n",
              "      --disabled-fill-color: #AAA;\n",
              "      --disabled-bg-color: #DDD;\n",
              "  }\n",
              "\n",
              "  [theme=dark] .colab-df-quickchart {\n",
              "      --bg-color: #3B4455;\n",
              "      --fill-color: #D2E3FC;\n",
              "      --hover-bg-color: #434B5C;\n",
              "      --hover-fill-color: #FFFFFF;\n",
              "      --disabled-bg-color: #3B4455;\n",
              "      --disabled-fill-color: #666;\n",
              "  }\n",
              "\n",
              "  .colab-df-quickchart {\n",
              "    background-color: var(--bg-color);\n",
              "    border: none;\n",
              "    border-radius: 50%;\n",
              "    cursor: pointer;\n",
              "    display: none;\n",
              "    fill: var(--fill-color);\n",
              "    height: 32px;\n",
              "    padding: 0;\n",
              "    width: 32px;\n",
              "  }\n",
              "\n",
              "  .colab-df-quickchart:hover {\n",
              "    background-color: var(--hover-bg-color);\n",
              "    box-shadow: 0 1px 2px rgba(60, 64, 67, 0.3), 0 1px 3px 1px rgba(60, 64, 67, 0.15);\n",
              "    fill: var(--button-hover-fill-color);\n",
              "  }\n",
              "\n",
              "  .colab-df-quickchart-complete:disabled,\n",
              "  .colab-df-quickchart-complete:disabled:hover {\n",
              "    background-color: var(--disabled-bg-color);\n",
              "    fill: var(--disabled-fill-color);\n",
              "    box-shadow: none;\n",
              "  }\n",
              "\n",
              "  .colab-df-spinner {\n",
              "    border: 2px solid var(--fill-color);\n",
              "    border-color: transparent;\n",
              "    border-bottom-color: var(--fill-color);\n",
              "    animation:\n",
              "      spin 1s steps(1) infinite;\n",
              "  }\n",
              "\n",
              "  @keyframes spin {\n",
              "    0% {\n",
              "      border-color: transparent;\n",
              "      border-bottom-color: var(--fill-color);\n",
              "      border-left-color: var(--fill-color);\n",
              "    }\n",
              "    20% {\n",
              "      border-color: transparent;\n",
              "      border-left-color: var(--fill-color);\n",
              "      border-top-color: var(--fill-color);\n",
              "    }\n",
              "    30% {\n",
              "      border-color: transparent;\n",
              "      border-left-color: var(--fill-color);\n",
              "      border-top-color: var(--fill-color);\n",
              "      border-right-color: var(--fill-color);\n",
              "    }\n",
              "    40% {\n",
              "      border-color: transparent;\n",
              "      border-right-color: var(--fill-color);\n",
              "      border-top-color: var(--fill-color);\n",
              "    }\n",
              "    60% {\n",
              "      border-color: transparent;\n",
              "      border-right-color: var(--fill-color);\n",
              "    }\n",
              "    80% {\n",
              "      border-color: transparent;\n",
              "      border-right-color: var(--fill-color);\n",
              "      border-bottom-color: var(--fill-color);\n",
              "    }\n",
              "    90% {\n",
              "      border-color: transparent;\n",
              "      border-bottom-color: var(--fill-color);\n",
              "    }\n",
              "  }\n",
              "</style>\n",
              "\n",
              "  <script>\n",
              "    async function quickchart(key) {\n",
              "      const quickchartButtonEl =\n",
              "        document.querySelector('#' + key + ' button');\n",
              "      quickchartButtonEl.disabled = true;  // To prevent multiple clicks.\n",
              "      quickchartButtonEl.classList.add('colab-df-spinner');\n",
              "      try {\n",
              "        const charts = await google.colab.kernel.invokeFunction(\n",
              "            'suggestCharts', [key], {});\n",
              "      } catch (error) {\n",
              "        console.error('Error during call to suggestCharts:', error);\n",
              "      }\n",
              "      quickchartButtonEl.classList.remove('colab-df-spinner');\n",
              "      quickchartButtonEl.classList.add('colab-df-quickchart-complete');\n",
              "    }\n",
              "    (() => {\n",
              "      let quickchartButtonEl =\n",
              "        document.querySelector('#df-877b6254-ecb9-4333-9d8e-78db5cc395be button');\n",
              "      quickchartButtonEl.style.display =\n",
              "        google.colab.kernel.accessAllowed ? 'block' : 'none';\n",
              "    })();\n",
              "  </script>\n",
              "</div>\n",
              "    </div>\n",
              "  </div>\n"
            ],
            "application/vnd.google.colaboratory.intrinsic+json": {
              "type": "dataframe",
              "summary": "{\n  \"name\": \"temperature\",\n  \"rows\": 8,\n  \"fields\": [\n    {\n      \"column\": \"YEAR\",\n      \"properties\": {\n        \"dtype\": \"number\",\n        \"std\": 872.8809759556664,\n        \"min\": 33.91902121229326,\n        \"max\": 2017.0,\n        \"num_unique_values\": 7,\n        \"samples\": [\n          117.0,\n          1959.0,\n          1988.0\n        ],\n        \"semantic_type\": \"\",\n        \"description\": \"\"\n      }\n    },\n    {\n      \"column\": \"JAN\",\n      \"properties\": {\n        \"dtype\": \"number\",\n        \"std\": 35.04465571501202,\n        \"min\": 0.834587606035784,\n        \"max\": 117.0,\n        \"num_unique_values\": 8,\n        \"samples\": [\n          23.687435897435893,\n          23.68,\n          117.0\n        ],\n        \"semantic_type\": \"\",\n        \"description\": \"\"\n      }\n    },\n    {\n      \"column\": \"FEB\",\n      \"properties\": {\n        \"dtype\": \"number\",\n        \"std\": 34.63770978054005,\n        \"min\": 1.1507567443147626,\n        \"max\": 117.0,\n        \"num_unique_values\": 8,\n        \"samples\": [\n          25.59786324786324,\n          25.48,\n          117.0\n        ],\n        \"semantic_type\": \"\",\n        \"description\": \"\"\n      }\n    },\n    {\n      \"column\": \"MAR\",\n      \"properties\": {\n        \"dtype\": \"number\",\n        \"std\": 33.95595456532858,\n        \"min\": 1.0684512315440673,\n        \"max\": 117.0,\n        \"num_unique_values\": 8,\n        \"samples\": [\n          29.085982905982902,\n          29.04,\n          117.0\n        ],\n        \"semantic_type\": \"\",\n        \"description\": \"\"\n      }\n    },\n    {\n      \"column\": \"APR\",\n      \"properties\": {\n        \"dtype\": \"number\",\n        \"std\": 33.44381539726126,\n        \"min\": 0.8894779942580806,\n        \"max\": 117.0,\n        \"num_unique_values\": 8,\n        \"samples\": [\n          31.97581196581196,\n          31.95,\n          117.0\n        ],\n        \"semantic_type\": \"\",\n        \"description\": \"\"\n      }\n    },\n    {\n      \"column\": \"MAY\",\n      \"properties\": {\n        \"dtype\": \"number\",\n        \"std\": 33.21056537599255,\n        \"min\": 0.7249049553033843,\n        \"max\": 117.0,\n        \"num_unique_values\": 8,\n        \"samples\": [\n          33.56529914529915,\n          33.51,\n          117.0\n        ],\n        \"semantic_type\": \"\",\n        \"description\": \"\"\n      }\n    },\n    {\n      \"column\": \"JUN\",\n      \"properties\": {\n        \"dtype\": \"number\",\n        \"std\": 33.36921551314657,\n        \"min\": 0.6331316748149578,\n        \"max\": 117.0,\n        \"num_unique_values\": 8,\n        \"samples\": [\n          32.77427350427351,\n          32.73,\n          117.0\n        ],\n        \"semantic_type\": \"\",\n        \"description\": \"\"\n      }\n    },\n    {\n      \"column\": \"JUL\",\n      \"properties\": {\n        \"dtype\": \"number\",\n        \"std\": 33.67839272808844,\n        \"min\": 0.468817576914948,\n        \"max\": 117.0,\n        \"num_unique_values\": 8,\n        \"samples\": [\n          31.03589743589744,\n          31.0,\n          117.0\n        ],\n        \"semantic_type\": \"\",\n        \"description\": \"\"\n      }\n    },\n    {\n      \"column\": \"AUG\",\n      \"properties\": {\n        \"dtype\": \"number\",\n        \"std\": 33.777448136471186,\n        \"min\": 0.4763119533699285,\n        \"max\": 117.0,\n        \"num_unique_values\": 8,\n        \"samples\": [\n          30.50769230769231,\n          30.54,\n          117.0\n        ],\n        \"semantic_type\": \"\",\n        \"description\": \"\"\n      }\n    },\n    {\n      \"column\": \"SEP\",\n      \"properties\": {\n        \"dtype\": \"number\",\n        \"std\": 33.76805272471449,\n        \"min\": 0.5442945910325506,\n        \"max\": 117.0,\n        \"num_unique_values\": 8,\n        \"samples\": [\n          30.486752136752134,\n          30.52,\n          117.0\n        ],\n        \"semantic_type\": \"\",\n        \"description\": \"\"\n      }\n    },\n    {\n      \"column\": \"OCT\",\n      \"properties\": {\n        \"dtype\": \"number\",\n        \"std\": 33.8722946579452,\n        \"min\": 0.705492200882088,\n        \"max\": 117.0,\n        \"num_unique_values\": 8,\n        \"samples\": [\n          29.7665811965812,\n          29.78,\n          117.0\n        ],\n        \"semantic_type\": \"\",\n        \"description\": \"\"\n      }\n    },\n    {\n      \"column\": \"NOV\",\n      \"properties\": {\n        \"dtype\": \"number\",\n        \"std\": 34.32667608296349,\n        \"min\": 0.7145175557391683,\n        \"max\": 117.0,\n        \"num_unique_values\": 8,\n        \"samples\": [\n          27.285470085470088,\n          27.3,\n          117.0\n        ],\n        \"semantic_type\": \"\",\n        \"description\": \"\"\n      }\n    },\n    {\n      \"column\": \"DEC\",\n      \"properties\": {\n        \"dtype\": \"number\",\n        \"std\": 34.84591337175933,\n        \"min\": 0.7826439391666521,\n        \"max\": 117.0,\n        \"num_unique_values\": 8,\n        \"samples\": [\n          24.6082905982906,\n          24.66,\n          117.0\n        ],\n        \"semantic_type\": \"\",\n        \"description\": \"\"\n      }\n    },\n    {\n      \"column\": \"ANNUAL\",\n      \"properties\": {\n        \"dtype\": \"number\",\n        \"std\": 33.98267941291015,\n        \"min\": 0.5555548732680748,\n        \"max\": 117.0,\n        \"num_unique_values\": 8,\n        \"samples\": [\n          29.18136752136752,\n          29.09,\n          117.0\n        ],\n        \"semantic_type\": \"\",\n        \"description\": \"\"\n      }\n    },\n    {\n      \"column\": \"JAN-FEB\",\n      \"properties\": {\n        \"dtype\": \"number\",\n        \"std\": 34.855744468480296,\n        \"min\": 0.9112386351993575,\n        \"max\": 117.0,\n        \"num_unique_values\": 8,\n        \"samples\": [\n          24.629572649572648,\n          24.53,\n          117.0\n        ],\n        \"semantic_type\": \"\",\n        \"description\": \"\"\n      }\n    },\n    {\n      \"column\": \"MAR-MAY\",\n      \"properties\": {\n        \"dtype\": \"number\",\n        \"std\": 33.54016859371765,\n        \"min\": 0.7405853341744104,\n        \"max\": 117.0,\n        \"num_unique_values\": 8,\n        \"samples\": [\n          31.517606837606838,\n          31.47,\n          117.0\n        ],\n        \"semantic_type\": \"\",\n        \"description\": \"\"\n      }\n    },\n    {\n      \"column\": \"JUN-SEP\",\n      \"properties\": {\n        \"dtype\": \"number\",\n        \"std\": 33.65992750632162,\n        \"min\": 0.42050793461826996,\n        \"max\": 117.0,\n        \"num_unique_values\": 8,\n        \"samples\": [\n          31.19820512820512,\n          31.19,\n          117.0\n        ],\n        \"semantic_type\": \"\",\n        \"description\": \"\"\n      }\n    },\n    {\n      \"column\": \"OCT-DEC\",\n      \"properties\": {\n        \"dtype\": \"number\",\n        \"std\": 34.34524464800434,\n        \"min\": 0.6720028371552533,\n        \"max\": 117.0,\n        \"num_unique_values\": 8,\n        \"samples\": [\n          27.208119658119656,\n          27.21,\n          117.0\n        ],\n        \"semantic_type\": \"\",\n        \"description\": \"\"\n      }\n    }\n  ]\n}"
            }
          },
          "metadata": {},
          "execution_count": 7
        }
      ]
    },
    {
      "cell_type": "code",
      "source": [
        "temperature.plot(x='YEAR',y='JUN', kind='scatter')"
      ],
      "metadata": {
        "colab": {
          "base_uri": "https://localhost:8080/",
          "height": 466
        },
        "id": "PQQvW7euRZmB",
        "outputId": "4fff804d-a54e-48a5-9fc1-cd8d62f3d979"
      },
      "execution_count": null,
      "outputs": [
        {
          "output_type": "execute_result",
          "data": {
            "text/plain": [
              "<Axes: xlabel='YEAR', ylabel='JUN'>"
            ]
          },
          "metadata": {},
          "execution_count": 8
        },
        {
          "output_type": "display_data",
          "data": {
            "text/plain": [
              "<Figure size 640x480 with 1 Axes>"
            ],
            "image/png": "[encoded data removed]"
          },
          "metadata": {}
        }
      ]
    },
    {
      "cell_type": "markdown",
      "source": [
        "FOR JANUARY\n"
      ],
      "metadata": {
        "id": "Vl6VRtmSVDEL"
      }
    },
    {
      "cell_type": "code",
      "source": [
        "from sklearn.model_selection import train_test_split\n",
        "from sklearn.linear_model import LinearRegression\n",
        "from sklearn import metrics"
      ],
      "metadata": {
        "id": "H7o9GhQuSFjZ"
      },
      "execution_count": null,
      "outputs": []
    },
    {
      "cell_type": "code",
      "source": [
        "x = temperature['YEAR'].values.reshape(-1, 1)\n",
        "y = temperature['JAN'].values.reshape(-1,1)"
      ],
      "metadata": {
        "id": "tBS4wzzuSMJ7"
      },
      "execution_count": null,
      "outputs": []
    },
    {
      "cell_type": "code",
      "source": [
        "x_train, x_test, y_train, y_test = train_test_split(x, y, test_size=0.2,random_state=0)"
      ],
      "metadata": {
        "id": "2cFkrLj3S58-"
      },
      "execution_count": null,
      "outputs": []
    },
    {
      "cell_type": "code",
      "source": [
        "regressor = LinearRegression()\n",
        "regressor.fit(x_train, y_train)"
      ],
      "metadata": {
        "colab": {
          "base_uri": "https://localhost:8080/",
          "height": 75
        },
        "id": "0EVUSgUtS_Wd",
        "outputId": "a9784e52-7da5-4591-888b-60b21ef45765"
      },
      "execution_count": null,
      "outputs": [
        {
          "output_type": "execute_result",
          "data": {
            "text/plain": [
              "LinearRegression()"
            ],
            "text/html": [
              "<style>#sk-container-id-1 {color: black;background-color: white;}#sk-container-id-1 pre{padding: 0;}#sk-container-id-1 div.sk-toggleable {background-color: white;}#sk-container-id-1 label.sk-toggleable__label {cursor: pointer;display: block;width: 100%;margin-bottom: 0;padding: 0.3em;box-sizing: border-box;text-align: center;}#sk-container-id-1 label.sk-toggleable__label-arrow:before {content: \"▸\";float: left;margin-right: 0.25em;color: #696969;}#sk-container-id-1 label.sk-toggleable__label-arrow:hover:before {color: black;}#sk-container-id-1 div.sk-estimator:hover label.sk-toggleable__label-arrow:before {color: black;}#sk-container-id-1 div.sk-toggleable__content {max-height: 0;max-width: 0;overflow: hidden;text-align: left;background-color: #f0f8ff;}#sk-container-id-1 div.sk-toggleable__content pre {margin: 0.2em;color: black;border-radius: 0.25em;background-color: #f0f8ff;}#sk-container-id-1 input.sk-toggleable__control:checked~div.sk-toggleable__content {max-height: 200px;max-width: 100%;overflow: auto;}#sk-container-id-1 input.sk-toggleable__control:checked~label.sk-toggleable__label-arrow:before {content: \"▾\";}#sk-container-id-1 div.sk-estimator input.sk-toggleable__control:checked~label.sk-toggleable__label {background-color: #d4ebff;}#sk-container-id-1 div.sk-label input.sk-toggleable__control:checked~label.sk-toggleable__label {background-color: #d4ebff;}#sk-container-id-1 input.sk-hidden--visually {border: 0;clip: rect(1px 1px 1px 1px);clip: rect(1px, 1px, 1px, 1px);height: 1px;margin: -1px;overflow: hidden;padding: 0;position: absolute;width: 1px;}#sk-container-id-1 div.sk-estimator {font-family: monospace;background-color: #f0f8ff;border: 1px dotted black;border-radius: 0.25em;box-sizing: border-box;margin-bottom: 0.5em;}#sk-container-id-1 div.sk-estimator:hover {background-color: #d4ebff;}#sk-container-id-1 div.sk-parallel-item::after {content: \"\";width: 100%;border-bottom: 1px solid gray;flex-grow: 1;}#sk-container-id-1 div.sk-label:hover label.sk-toggleable__label {background-color: #d4ebff;}#sk-container-id-1 div.sk-serial::before {content: \"\";position: absolute;border-left: 1px solid gray;box-sizing: border-box;top: 0;bottom: 0;left: 50%;z-index: 0;}#sk-container-id-1 div.sk-serial {display: flex;flex-direction: column;align-items: center;background-color: white;padding-right: 0.2em;padding-left: 0.2em;position: relative;}#sk-container-id-1 div.sk-item {position: relative;z-index: 1;}#sk-container-id-1 div.sk-parallel {display: flex;align-items: stretch;justify-content: center;background-color: white;position: relative;}#sk-container-id-1 div.sk-item::before, #sk-container-id-1 div.sk-parallel-item::before {content: \"\";position: absolute;border-left: 1px solid gray;box-sizing: border-box;top: 0;bottom: 0;left: 50%;z-index: -1;}#sk-container-id-1 div.sk-parallel-item {display: flex;flex-direction: column;z-index: 1;position: relative;background-color: white;}#sk-container-id-1 div.sk-parallel-item:first-child::after {align-self: flex-end;width: 50%;}#sk-container-id-1 div.sk-parallel-item:last-child::after {align-self: flex-start;width: 50%;}#sk-container-id-1 div.sk-parallel-item:only-child::after {width: 0;}#sk-container-id-1 div.sk-dashed-wrapped {border: 1px dashed gray;margin: 0 0.4em 0.5em 0.4em;box-sizing: border-box;padding-bottom: 0.4em;background-color: white;}#sk-container-id-1 div.sk-label label {font-family: monospace;font-weight: bold;display: inline-block;line-height: 1.2em;}#sk-container-id-1 div.sk-label-container {text-align: center;}#sk-container-id-1 div.sk-container {/* jupyter's `normalize.less` sets `[hidden] { display: none; }` but bootstrap.min.css set `[hidden] { display: none !important; }` so we also need the `!important` here to be able to override the default hidden behavior on the sphinx rendered scikit-learn.org. See: https://github.com/scikit-learn/scikit-learn/issues/21755 */display: inline-block !important;position: relative;}#sk-container-id-1 div.sk-text-repr-fallback {display: none;}</style><div id=\"sk-container-id-1\" class=\"sk-top-container\"><div class=\"sk-text-repr-fallback\"><pre>LinearRegression()</pre><b>In a Jupyter environment, please rerun this cell to show the HTML representation or trust the notebook. <br />On GitHub, the HTML representation is unable to render, please try loading this page with nbviewer.org.</b></div><div class=\"sk-container\" hidden><div class=\"sk-item\"><div class=\"sk-estimator sk-toggleable\"><input class=\"sk-toggleable__control sk-hidden--visually\" id=\"sk-estimator-id-1\" type=\"checkbox\" checked><label for=\"sk-estimator-id-1\" class=\"sk-toggleable__label sk-toggleable__label-arrow\">LinearRegression</label><div class=\"sk-toggleable__content\"><pre>LinearRegression()</pre></div></div></div></div></div>"
            ]
          },
          "metadata": {},
          "execution_count": 12
        }
      ]
    },
    {
      "cell_type": "code",
      "source": [
        "LinearRegression()"
      ],
      "metadata": {
        "colab": {
          "base_uri": "https://localhost:8080/",
          "height": 75
        },
        "id": "tg6KUlKvTbKb",
        "outputId": "22aa37ac-cd72-4e60-98f4-3108fad34502"
      },
      "execution_count": null,
      "outputs": [
        {
          "output_type": "execute_result",
          "data": {
            "text/plain": [
              "LinearRegression()"
            ],
            "text/html": [
              "<style>#sk-container-id-2 {color: black;background-color: white;}#sk-container-id-2 pre{padding: 0;}#sk-container-id-2 div.sk-toggleable {background-color: white;}#sk-container-id-2 label.sk-toggleable__label {cursor: pointer;display: block;width: 100%;margin-bottom: 0;padding: 0.3em;box-sizing: border-box;text-align: center;}#sk-container-id-2 label.sk-toggleable__label-arrow:before {content: \"▸\";float: left;margin-right: 0.25em;color: #696969;}#sk-container-id-2 label.sk-toggleable__label-arrow:hover:before {color: black;}#sk-container-id-2 div.sk-estimator:hover label.sk-toggleable__label-arrow:before {color: black;}#sk-container-id-2 div.sk-toggleable__content {max-height: 0;max-width: 0;overflow: hidden;text-align: left;background-color: #f0f8ff;}#sk-container-id-2 div.sk-toggleable__content pre {margin: 0.2em;color: black;border-radius: 0.25em;background-color: #f0f8ff;}#sk-container-id-2 input.sk-toggleable__control:checked~div.sk-toggleable__content {max-height: 200px;max-width: 100%;overflow: auto;}#sk-container-id-2 input.sk-toggleable__control:checked~label.sk-toggleable__label-arrow:before {content: \"▾\";}#sk-container-id-2 div.sk-estimator input.sk-toggleable__control:checked~label.sk-toggleable__label {background-color: #d4ebff;}#sk-container-id-2 div.sk-label input.sk-toggleable__control:checked~label.sk-toggleable__label {background-color: #d4ebff;}#sk-container-id-2 input.sk-hidden--visually {border: 0;clip: rect(1px 1px 1px 1px);clip: rect(1px, 1px, 1px, 1px);height: 1px;margin: -1px;overflow: hidden;padding: 0;position: absolute;width: 1px;}#sk-container-id-2 div.sk-estimator {font-family: monospace;background-color: #f0f8ff;border: 1px dotted black;border-radius: 0.25em;box-sizing: border-box;margin-bottom: 0.5em;}#sk-container-id-2 div.sk-estimator:hover {background-color: #d4ebff;}#sk-container-id-2 div.sk-parallel-item::after {content: \"\";width: 100%;border-bottom: 1px solid gray;flex-grow: 1;}#sk-container-id-2 div.sk-label:hover label.sk-toggleable__label {background-color: #d4ebff;}#sk-container-id-2 div.sk-serial::before {content: \"\";position: absolute;border-left: 1px solid gray;box-sizing: border-box;top: 0;bottom: 0;left: 50%;z-index: 0;}#sk-container-id-2 div.sk-serial {display: flex;flex-direction: column;align-items: center;background-color: white;padding-right: 0.2em;padding-left: 0.2em;position: relative;}#sk-container-id-2 div.sk-item {position: relative;z-index: 1;}#sk-container-id-2 div.sk-parallel {display: flex;align-items: stretch;justify-content: center;background-color: white;position: relative;}#sk-container-id-2 div.sk-item::before, #sk-container-id-2 div.sk-parallel-item::before {content: \"\";position: absolute;border-left: 1px solid gray;box-sizing: border-box;top: 0;bottom: 0;left: 50%;z-index: -1;}#sk-container-id-2 div.sk-parallel-item {display: flex;flex-direction: column;z-index: 1;position: relative;background-color: white;}#sk-container-id-2 div.sk-parallel-item:first-child::after {align-self: flex-end;width: 50%;}#sk-container-id-2 div.sk-parallel-item:last-child::after {align-self: flex-start;width: 50%;}#sk-container-id-2 div.sk-parallel-item:only-child::after {width: 0;}#sk-container-id-2 div.sk-dashed-wrapped {border: 1px dashed gray;margin: 0 0.4em 0.5em 0.4em;box-sizing: border-box;padding-bottom: 0.4em;background-color: white;}#sk-container-id-2 div.sk-label label {font-family: monospace;font-weight: bold;display: inline-block;line-height: 1.2em;}#sk-container-id-2 div.sk-label-container {text-align: center;}#sk-container-id-2 div.sk-container {/* jupyter's `normalize.less` sets `[hidden] { display: none; }` but bootstrap.min.css set `[hidden] { display: none !important; }` so we also need the `!important` here to be able to override the default hidden behavior on the sphinx rendered scikit-learn.org. See: https://github.com/scikit-learn/scikit-learn/issues/21755 */display: inline-block !important;position: relative;}#sk-container-id-2 div.sk-text-repr-fallback {display: none;}</style><div id=\"sk-container-id-2\" class=\"sk-top-container\"><div class=\"sk-text-repr-fallback\"><pre>LinearRegression()</pre><b>In a Jupyter environment, please rerun this cell to show the HTML representation or trust the notebook. <br />On GitHub, the HTML representation is unable to render, please try loading this page with nbviewer.org.</b></div><div class=\"sk-container\" hidden><div class=\"sk-item\"><div class=\"sk-estimator sk-toggleable\"><input class=\"sk-toggleable__control sk-hidden--visually\" id=\"sk-estimator-id-2\" type=\"checkbox\" checked><label for=\"sk-estimator-id-2\" class=\"sk-toggleable__label sk-toggleable__label-arrow\">LinearRegression</label><div class=\"sk-toggleable__content\"><pre>LinearRegression()</pre></div></div></div></div></div>"
            ]
          },
          "metadata": {},
          "execution_count": 13
        }
      ]
    },
    {
      "cell_type": "code",
      "source": [
        "y_pred = regressor.predict(x_test)\n",
        "print(regressor.intercept_)\n",
        "print(regressor.coef_)"
      ],
      "metadata": {
        "colab": {
          "base_uri": "https://localhost:8080/"
        },
        "id": "NukNjAy8T7j9",
        "outputId": "1c57b7b0-05c8-44b4-b49c-1829415179c0"
      },
      "execution_count": null,
      "outputs": [
        {
          "output_type": "stream",
          "name": "stdout",
          "text": [
            "[-3.01993378]\n",
            "[[0.01360673]]\n"
          ]
        }
      ]
    },
    {
      "cell_type": "code",
      "source": [
        "plt.scatter(x_test, y_test, color=\"PURPLE\")\n",
        "plt.plot(x_test,y_pred, color=\"yellow\")\n",
        "plt.show()"
      ],
      "metadata": {
        "colab": {
          "base_uri": "https://localhost:8080/",
          "height": 430
        },
        "id": "VbmacAiTUy41",
        "outputId": "265b858e-b148-4661-ce2e-8746599e03b5"
      },
      "execution_count": null,
      "outputs": [
        {
          "output_type": "display_data",
          "data": {
            "text/plain": [
              "<Figure size 640x480 with 1 Axes>"
            ],
            "image/png": "[encoded data removed]"
          },
          "metadata": {}
        }
      ]
    },
    {
      "cell_type": "code",
      "source": [
        "print(\"Mean Absolute Error: \", metrics.mean_absolute_error(y_test, y_pred))\n",
        "print(\"Mean Squared Error: \", metrics.mean_squared_error(y_test, y_pred))\n",
        "print(\"R2 Score: \", metrics.r2_score(y_test, y_pred))"
      ],
      "metadata": {
        "colab": {
          "base_uri": "https://localhost:8080/"
        },
        "id": "dJ7vT2gPX--H",
        "outputId": "9d1d218a-b395-4ca9-d269-4effaf9a3be4"
      },
      "execution_count": null,
      "outputs": [
        {
          "output_type": "stream",
          "name": "stdout",
          "text": [
            "Mean Absolute Error:  0.5778968335425461\n",
            "Mean Squared Error:  0.5356328116562697\n",
            "R2 Score:  0.3241291498372971\n"
          ]
        }
      ]
    },
    {
      "cell_type": "markdown",
      "source": [
        "FOR FEBURARY\n"
      ],
      "metadata": {
        "id": "b9OYFnjAU7Xv"
      }
    },
    {
      "cell_type": "code",
      "source": [
        "x = temperature['YEAR'].values.reshape(-1, 1)\n",
        "y = temperature['FEB'].values.reshape(-1,1)\n",
        "x_train, x_test, y_train, y_test = train_test_split(x, y, test_size=0.2,random_state=0)\n",
        "regressor = LinearRegression()\n",
        "regressor.fit(x_train, y_train)\n",
        "LinearRegression()\n",
        "y_pred = regressor.predict(x_test)\n",
        "print(regressor.intercept_)\n",
        "print(regressor.coef_)\n",
        "plt.scatter(x_test, y_test, color=\"GREEN\")\n",
        "plt.plot(x_test,y_pred, color=\"yellow\")\n",
        "plt.show()\n",
        "print(\"Mean Absolute Error: \", metrics.mean_absolute_error(y_test, y_pred))\n",
        "print(\"Mean Squared Error: \", metrics.mean_squared_error(y_test, y_pred))\n",
        "print(\"R2 Score: \", metrics.r2_score(y_test, y_pred))\n",
        "\n"
      ],
      "metadata": {
        "colab": {
          "base_uri": "https://localhost:8080/",
          "height": 517
        },
        "id": "FjpfUZFDU_uQ",
        "outputId": "e1a78cfd-e01d-43f8-c7d7-3c4808c8876a"
      },
      "execution_count": null,
      "outputs": [
        {
          "output_type": "stream",
          "name": "stdout",
          "text": [
            "[-15.26618715]\n",
            "[[0.02084289]]\n"
          ]
        },
        {
          "output_type": "display_data",
          "data": {
            "text/plain": [
              "<Figure size 640x480 with 1 Axes>"
            ],
            "image/png": "[encoded data removed]"
          },
          "metadata": {}
        },
        {
          "output_type": "stream",
          "name": "stdout",
          "text": [
            "Mean Absolute Error:  0.7085822959826724\n",
            "Mean Squared Error:  0.8296792487976976\n",
            "R2 Score:  0.4925948829320409\n"
          ]
        }
      ]
    },
    {
      "cell_type": "markdown",
      "source": [
        "FOR MARCH"
      ],
      "metadata": {
        "id": "a5Gjo2CBVpmE"
      }
    },
    {
      "cell_type": "code",
      "source": [
        "x = temperature['YEAR'].values.reshape(-1, 1)\n",
        "y = temperature['MAR'].values.reshape(-1,1)\n",
        "x_train, x_test, y_train, y_test = train_test_split(x, y, test_size=0.2,random_state=0)\n",
        "regressor = LinearRegression()\n",
        "regressor.fit(x_train, y_train)\n",
        "LinearRegression()\n",
        "y_pred = regressor.predict(x_test)\n",
        "print(regressor.intercept_)\n",
        "print(regressor.coef_)\n",
        "plt.scatter(x_test, y_test, color=\"blue\")\n",
        "plt.plot(x_test,y_pred, color=\"GREEN\")\n",
        "plt.show()\n",
        "print(\"Mean Absolute Error: \", metrics.mean_absolute_error(y_test, y_pred))\n",
        "print(\"Mean Squared Error: \", metrics.mean_squared_error(y_test, y_pred))\n",
        "print(\"R2 Score: \", metrics.r2_score(y_test, y_pred))"
      ],
      "metadata": {
        "colab": {
          "base_uri": "https://localhost:8080/",
          "height": 517
        },
        "id": "ZJiuLYK8Vz6t",
        "outputId": "40b82e24-12c3-4ef6-8400-acd450a4265c"
      },
      "execution_count": null,
      "outputs": [
        {
          "output_type": "stream",
          "name": "stdout",
          "text": [
            "[0.09751286]\n",
            "[[0.01479591]]\n"
          ]
        },
        {
          "output_type": "display_data",
          "data": {
            "text/plain": [
              "<Figure size 640x480 with 1 Axes>"
            ],
            "image/png": "[encoded data removed]"
          },
          "metadata": {}
        },
        {
          "output_type": "stream",
          "name": "stdout",
          "text": [
            "Mean Absolute Error:  0.6404373211813339\n",
            "Mean Squared Error:  0.5610101360765247\n",
            "R2 Score:  0.5656989340907758\n"
          ]
        }
      ]
    },
    {
      "cell_type": "markdown",
      "source": [
        "FOR APRIL"
      ],
      "metadata": {
        "id": "w6kdJW8HWDHX"
      }
    },
    {
      "cell_type": "code",
      "source": [
        "x = temperature['YEAR'].values.reshape(-1, 1)\n",
        "y = temperature['APR'].values.reshape(-1,1)\n",
        "x_train, x_test, y_train, y_test = train_test_split(x, y, test_size=0.2,random_state=0)\n",
        "regressor = LinearRegression()\n",
        "regressor.fit(x_train, y_train)\n",
        "LinearRegression()\n",
        "y_pred = regressor.predict(x_test)\n",
        "print(regressor.intercept_)\n",
        "print(regressor.coef_)\n",
        "plt.scatter(x_test, y_test, color=\"YELLOW\")\n",
        "plt.plot(x_test,y_pred, color=\"BROWN\")\n",
        "plt.show()\n",
        "print(\"Mean Absolute Error: \", metrics.mean_absolute_error(y_test, y_pred))\n",
        "print(\"Mean Squared Error: \", metrics.mean_squared_error(y_test, y_pred))\n",
        "print(\"R2 Score: \", metrics.r2_score(y_test, y_pred))"
      ],
      "metadata": {
        "colab": {
          "base_uri": "https://localhost:8080/",
          "height": 517
        },
        "id": "WRlgbNjkWB_6",
        "outputId": "fea9597c-450d-4ec7-d0e9-6ce2b6e93cf6"
      },
      "execution_count": null,
      "outputs": [
        {
          "output_type": "stream",
          "name": "stdout",
          "text": [
            "[5.67418047]\n",
            "[[0.01342049]]\n"
          ]
        },
        {
          "output_type": "display_data",
          "data": {
            "text/plain": [
              "<Figure size 640x480 with 1 Axes>"
            ],
            "image/png": "[encoded data removed]"
          },
          "metadata": {}
        },
        {
          "output_type": "stream",
          "name": "stdout",
          "text": [
            "Mean Absolute Error:  0.6077722105850426\n",
            "Mean Squared Error:  0.6541243230377881\n",
            "R2 Score:  0.3490264567214245\n"
          ]
        }
      ]
    },
    {
      "cell_type": "markdown",
      "source": [
        "FOR MAY"
      ],
      "metadata": {
        "id": "tjrlfNQpWZc-"
      }
    },
    {
      "cell_type": "code",
      "source": [
        " x = temperature['YEAR'].values.reshape(-1, 1)\n",
        "y = temperature['MAY'].values.reshape(-1,1)\n",
        "x_train, x_test, y_train, y_test = train_test_split(x, y, test_size=0.2,random_state=0)\n",
        "regressor = LinearRegression()\n",
        "regressor.fit(x_train, y_train)\n",
        "LinearRegression()\n",
        "y_pred = regressor.predict(x_test)\n",
        "print(regressor.intercept_)\n",
        "print(regressor.coef_)\n",
        "plt.scatter(x_test, y_test, color=\"BLUE\")\n",
        "plt.plot(x_test,y_pred, color=\"GREY\")\n",
        "plt.show()\n",
        "print(\"Mean Absolute Error: \", metrics.mean_absolute_error(y_test, y_pred))\n",
        "print(\"Mean Squared Error: \", metrics.mean_squared_error(y_test, y_pred))\n",
        "print(\"R2 Score: \", metrics.r2_score(y_test, y_pred))"
      ],
      "metadata": {
        "colab": {
          "base_uri": "https://localhost:8080/",
          "height": 519
        },
        "id": "yYnIfhPjWeEd",
        "outputId": "db6a2635-7647-4390-c619-9204696e80e3"
      },
      "execution_count": null,
      "outputs": [
        {
          "output_type": "stream",
          "name": "stdout",
          "text": [
            "[20.68213553]\n",
            "[[0.00658233]]\n"
          ]
        },
        {
          "output_type": "display_data",
          "data": {
            "text/plain": [
              "<Figure size 640x480 with 1 Axes>"
            ],
            "image/png": "[encoded data removed]"
          },
          "metadata": {}
        },
        {
          "output_type": "stream",
          "name": "stdout",
          "text": [
            "Mean Absolute Error:  0.5633146631874437\n",
            "Mean Squared Error:  0.5125672457149211\n",
            "R2 Score:  0.2932095650007621\n"
          ]
        }
      ]
    },
    {
      "cell_type": "markdown",
      "source": [
        "FOR JUNE"
      ],
      "metadata": {
        "id": "V34VvENKWmH6"
      }
    },
    {
      "cell_type": "code",
      "source": [
        "x = temperature['YEAR'].values.reshape(-1, 1)\n",
        "y = temperature['JUN'].values.reshape(-1,1)\n",
        "x_train, x_test, y_train, y_test = train_test_split(x, y, test_size=0.2,random_state=0)\n",
        "regressor = LinearRegression()\n",
        "regressor.fit(x_train, y_train)\n",
        "LinearRegression()\n",
        "y_pred = regressor.predict(x_test)\n",
        "print(regressor.intercept_)\n",
        "print(regressor.coef_)\n",
        "plt.scatter(x_test, y_test, color=\"YELLOW\")\n",
        "plt.plot(x_test,y_pred, color=\"GREEN\")\n",
        "plt.show()\n",
        "print(\"Mean Absolute Error: \", metrics.mean_absolute_error(y_test, y_pred))\n",
        "print(\"Mean Squared Error: \", metrics.mean_squared_error(y_test, y_pred))\n",
        "print(\"R2 Score: \", metrics.r2_score(y_test, y_pred))"
      ],
      "metadata": {
        "colab": {
          "base_uri": "https://localhost:8080/",
          "height": 517
        },
        "id": "BGQoeOmtWnQd",
        "outputId": "06c3531b-9d98-49d6-e3d9-5627401b7c66"
      },
      "execution_count": null,
      "outputs": [
        {
          "output_type": "stream",
          "name": "stdout",
          "text": [
            "[20.47856569]\n",
            "[[0.00626028]]\n"
          ]
        },
        {
          "output_type": "display_data",
          "data": {
            "text/plain": [
              "<Figure size 640x480 with 1 Axes>"
            ],
            "image/png": "[encoded data removed]"
          },
          "metadata": {}
        },
        {
          "output_type": "stream",
          "name": "stdout",
          "text": [
            "Mean Absolute Error:  0.522560661196577\n",
            "Mean Squared Error:  0.3957979797475897\n",
            "R2 Score:  0.1548268098994492\n"
          ]
        }
      ]
    },
    {
      "cell_type": "markdown",
      "source": [
        "FOR JULY"
      ],
      "metadata": {
        "id": "KRSdIgDgWqT5"
      }
    },
    {
      "cell_type": "code",
      "source": [
        "x = temperature['YEAR'].values.reshape(-1, 1)\n",
        "y = temperature['JUL'].values.reshape(-1,1)\n",
        "x_train, x_test, y_train, y_test = train_test_split(x, y, test_size=0.2,random_state=0)\n",
        "regressor = LinearRegression()\n",
        "regressor.fit(x_train, y_train)\n",
        "LinearRegression()\n",
        "y_pred = regressor.predict(x_test)\n",
        "print(regressor.intercept_)\n",
        "print(regressor.coef_)\n",
        "plt.scatter(x_test, y_test, color=\"RED\")\n",
        "plt.plot(x_test,y_pred, color=\"yellow\")\n",
        "plt.show()\n",
        "print(\"Mean Absolute Error: \", metrics.mean_absolute_error(y_test, y_pred))\n",
        "print(\"Mean Squared Error: \", metrics.mean_squared_error(y_test, y_pred))\n",
        "print(\"R2 Score: \", metrics.r2_score(y_test, y_pred))"
      ],
      "metadata": {
        "colab": {
          "base_uri": "https://localhost:8080/",
          "height": 517
        },
        "id": "iSU3cWtCWrvv",
        "outputId": "10802ee6-a174-41f7-d253-32841c0d094c"
      },
      "execution_count": null,
      "outputs": [
        {
          "output_type": "stream",
          "name": "stdout",
          "text": [
            "[19.66187516]\n",
            "[[0.00579505]]\n"
          ]
        },
        {
          "output_type": "display_data",
          "data": {
            "text/plain": [
              "<Figure size 640x480 with 1 Axes>"
            ],
            "image/png": "[encoded data removed]"
          },
          "metadata": {}
        },
        {
          "output_type": "stream",
          "name": "stdout",
          "text": [
            "Mean Absolute Error:  0.3768314585779837\n",
            "Mean Squared Error:  0.26857311115910876\n",
            "R2 Score:  0.23991393761495816\n"
          ]
        }
      ]
    },
    {
      "cell_type": "markdown",
      "source": [
        "FOR AUGUST"
      ],
      "metadata": {
        "id": "aEFr4dUZWzsW"
      }
    },
    {
      "cell_type": "code",
      "source": [
        "x = temperature['YEAR'].values.reshape(-1, 1)\n",
        "y = temperature['AUG'].values.reshape(-1,1)\n",
        "x_train, x_test, y_train, y_test = train_test_split(x, y, test_size=0.2,random_state=0)\n",
        "regressor = LinearRegression()\n",
        "regressor.fit(x_train, y_train)\n",
        "LinearRegression()\n",
        "y_pred = regressor.predict(x_test)\n",
        "print(regressor.intercept_)\n",
        "print(regressor.coef_)\n",
        "plt.scatter(x_test, y_test, color=\"GREEN\")\n",
        "plt.plot(x_test,y_pred, color=\"BLACK\")\n",
        "plt.show()\n",
        "print(\"Mean Absolute Error: \", metrics.mean_absolute_error(y_test, y_pred))\n",
        "print(\"Mean Squared Error: \", metrics.mean_squared_error(y_test, y_pred))\n",
        "print(\"R2 Score: \", metrics.r2_score(y_test, y_pred))"
      ],
      "metadata": {
        "colab": {
          "base_uri": "https://localhost:8080/",
          "height": 517
        },
        "id": "O5XFtK9yW1S4",
        "outputId": "b3e81d0b-24ba-44ea-ab5d-3e6944074507"
      },
      "execution_count": null,
      "outputs": [
        {
          "output_type": "stream",
          "name": "stdout",
          "text": [
            "[13.77266732]\n",
            "[[0.00854218]]\n"
          ]
        },
        {
          "output_type": "display_data",
          "data": {
            "text/plain": [
              "<Figure size 640x480 with 1 Axes>"
            ],
            "image/png": "[encoded data removed]"
          },
          "metadata": {}
        },
        {
          "output_type": "stream",
          "name": "stdout",
          "text": [
            "Mean Absolute Error:  0.32777770102115467\n",
            "Mean Squared Error:  0.15809903456616733\n",
            "R2 Score:  0.5022233961170961\n"
          ]
        }
      ]
    },
    {
      "cell_type": "markdown",
      "source": [
        "FOR SEPTEMBER"
      ],
      "metadata": {
        "id": "pz8CxnMhW45P"
      }
    },
    {
      "cell_type": "code",
      "source": [
        "x = temperature['YEAR'].values.reshape(-1, 1)\n",
        "y = temperature['SEP'].values.reshape(-1,1)\n",
        "x_train, x_test, y_train, y_test = train_test_split(x, y, test_size=0.2,random_state=0)\n",
        "regressor = LinearRegression()\n",
        "regressor.fit(x_train, y_train)\n",
        "LinearRegression()\n",
        "y_pred = regressor.predict(x_test)\n",
        "print(regressor.intercept_)\n",
        "print(regressor.coef_)\n",
        "plt.scatter(x_test, y_test, color=\"GREEN\")\n",
        "plt.plot(x_test,y_pred, color=\"yellow\")\n",
        "plt.show()\n",
        "print(\"Mean Absolute Error: \", metrics.mean_absolute_error(y_test, y_pred))\n",
        "print(\"Mean Squared Error: \", metrics.mean_squared_error(y_test, y_pred))\n",
        "print(\"R2 Score: \", metrics.r2_score(y_test, y_pred))"
      ],
      "metadata": {
        "colab": {
          "base_uri": "https://localhost:8080/",
          "height": 517
        },
        "id": "0ThVyD82W7Et",
        "outputId": "43792478-df08-45f1-8aa6-1d6b5e5d3a16"
      },
      "execution_count": null,
      "outputs": [
        {
          "output_type": "stream",
          "name": "stdout",
          "text": [
            "[12.09688887]\n",
            "[[0.00938404]]\n"
          ]
        },
        {
          "output_type": "display_data",
          "data": {
            "text/plain": [
              "<Figure size 640x480 with 1 Axes>"
            ],
            "image/png": "[encoded data removed]"
          },
          "metadata": {}
        },
        {
          "output_type": "stream",
          "name": "stdout",
          "text": [
            "Mean Absolute Error:  0.36753809501591544\n",
            "Mean Squared Error:  0.26888862042831335\n",
            "R2 Score:  0.4812187975079567\n"
          ]
        }
      ]
    },
    {
      "cell_type": "markdown",
      "source": [
        "FOR OCTOBER"
      ],
      "metadata": {
        "id": "mH4BpUfeW_Dq"
      }
    },
    {
      "cell_type": "code",
      "source": [
        "x = temperature['YEAR'].values.reshape(-1, 1)\n",
        "y = temperature['OCT'].values.reshape(-1,1)\n",
        "x_train, x_test, y_train, y_test = train_test_split(x, y, test_size=0.2,random_state=0)\n",
        "regressor = LinearRegression()\n",
        "regressor.fit(x_train, y_train)\n",
        "LinearRegression()\n",
        "y_pred = regressor.predict(x_test)\n",
        "print(regressor.intercept_)\n",
        "print(regressor.coef_)\n",
        "plt.scatter(x_test, y_test, color=\"blue\")\n",
        "plt.plot(x_test,y_pred, color=\"INDIGO\")\n",
        "plt.show()\n",
        "print(\"Mean Absolute Error: \", metrics.mean_absolute_error(y_test, y_pred))\n",
        "print(\"Mean Squared Error: \", metrics.mean_squared_error(y_test, y_pred))\n",
        "print(\"R2 Score: \", metrics.r2_score(y_test, y_pred))"
      ],
      "metadata": {
        "colab": {
          "base_uri": "https://localhost:8080/",
          "height": 517
        },
        "id": "4VqZLpcCXAbC",
        "outputId": "ccca2d5d-6d69-46e2-9989-22c8f35c86ec"
      },
      "execution_count": null,
      "outputs": [
        {
          "output_type": "stream",
          "name": "stdout",
          "text": [
            "[9.42040573]\n",
            "[[0.01038329]]\n"
          ]
        },
        {
          "output_type": "display_data",
          "data": {
            "text/plain": [
              "<Figure size 640x480 with 1 Axes>"
            ],
            "image/png": "[encoded data removed]"
          },
          "metadata": {}
        },
        {
          "output_type": "stream",
          "name": "stdout",
          "text": [
            "Mean Absolute Error:  0.472772617507583\n",
            "Mean Squared Error:  0.4377190718074863\n",
            "R2 Score:  0.45108135026252805\n"
          ]
        }
      ]
    },
    {
      "cell_type": "markdown",
      "source": [
        "FOR NOVEMBER"
      ],
      "metadata": {
        "id": "44I4NsURXFNd"
      }
    },
    {
      "cell_type": "code",
      "source": [
        "x = temperature['YEAR'].values.reshape(-1, 1)\n",
        "y = temperature['NOV'].values.reshape(-1,1)\n",
        "x_train, x_test, y_train, y_test = train_test_split(x, y, test_size=0.2,random_state=0)\n",
        "regressor = LinearRegression()\n",
        "regressor.fit(x_train, y_train)\n",
        "LinearRegression()\n",
        "y_pred = regressor.predict(x_test)\n",
        "print(regressor.intercept_)\n",
        "print(regressor.coef_)\n",
        "plt.scatter(x_test, y_test, color=\"YELLOW\")\n",
        "plt.plot(x_test,y_pred, color=\"GREEN\")\n",
        "plt.show()\n",
        "print(\"Mean Absolute Error: \", metrics.mean_absolute_error(y_test, y_pred))\n",
        "print(\"Mean Squared Error: \", metrics.mean_squared_error(y_test, y_pred))\n",
        "print(\"R2 Score: \", metrics.r2_score(y_test, y_pred))"
      ],
      "metadata": {
        "colab": {
          "base_uri": "https://localhost:8080/",
          "height": 517
        },
        "id": "XNum9QJEXLA3",
        "outputId": "3cf4006f-02b7-492c-96b0-7711039dff5e"
      },
      "execution_count": null,
      "outputs": [
        {
          "output_type": "stream",
          "name": "stdout",
          "text": [
            "[2.27964647]\n",
            "[[0.01277638]]\n"
          ]
        },
        {
          "output_type": "display_data",
          "data": {
            "text/plain": [
              "<Figure size 640x480 with 1 Axes>"
            ],
            "image/png": "[encoded data removed]"
          },
          "metadata": {}
        },
        {
          "output_type": "stream",
          "name": "stdout",
          "text": [
            "Mean Absolute Error:  0.47186544442190687\n",
            "Mean Squared Error:  0.36009177632701145\n",
            "R2 Score:  0.5747804624265603\n"
          ]
        }
      ]
    },
    {
      "cell_type": "markdown",
      "source": [
        "FOR DECEMBER"
      ],
      "metadata": {
        "id": "loi89sOEXPNb"
      }
    },
    {
      "cell_type": "code",
      "source": [
        "x = temperature['YEAR'].values.reshape(-1, 1)\n",
        "y = temperature['DEC'].values.reshape(-1,1)\n",
        "x_train, x_test, y_train, y_test = train_test_split(x, y, test_size=0.2,random_state=0)\n",
        "regressor = LinearRegression()\n",
        "regressor.fit(x_train, y_train)\n",
        "LinearRegression()\n",
        "y_pred = regressor.predict(x_test)\n",
        "print(regressor.intercept_)\n",
        "print(regressor.coef_)\n",
        "plt.scatter(x_test, y_test, color=\"blue\")\n",
        "plt.plot(x_test,y_pred, color=\"yellow\")\n",
        "plt.show()\n",
        "print(\"Mean Absolute Error: \", metrics.mean_absolute_error(y_test, y_pred))\n",
        "print(\"Mean Squared Error: \", metrics.mean_squared_error(y_test, y_pred))\n",
        "print(\"R2 Score: \", metrics.r2_score(y_test, y_pred))"
      ],
      "metadata": {
        "colab": {
          "base_uri": "https://localhost:8080/",
          "height": 517
        },
        "id": "zpTCNK9uXQlh",
        "outputId": "0e81fcdf-5647-4da1-d600-c54bb4546ab1"
      },
      "execution_count": null,
      "outputs": [
        {
          "output_type": "stream",
          "name": "stdout",
          "text": [
            "[-6.45406456]\n",
            "[[0.01584821]]\n"
          ]
        },
        {
          "output_type": "display_data",
          "data": {
            "text/plain": [
              "<Figure size 640x480 with 1 Axes>"
            ],
            "image/png": "[encoded data removed]"
          },
          "metadata": {}
        },
        {
          "output_type": "stream",
          "name": "stdout",
          "text": [
            "Mean Absolute Error:  0.39619427007612334\n",
            "Mean Squared Error:  0.32811745370103235\n",
            "R2 Score:  0.6099701087180813\n"
          ]
        }
      ]
    },
    {
      "cell_type": "code",
      "source": [
        "import pandas as pd\n",
        "import numpy as np\n",
        "from sklearn.model_selection import train_test_split\n",
        "from sklearn.linear_model import LinearRegression\n",
        "from sklearn.metrics import mean_squared_error, mean_absolute_error, r2_score\n",
        "import matplotlib.pyplot as plt\n",
        "\n",
        "# Load the data\n",
        "data = pd.read_csv('/content/temperatures.csv')\n",
        "\n",
        "# Assuming 'Month' is the independent variable and 'Temperature' is the dependent variable\n",
        "X = data['YEAR'].values.reshape(-1, 1)\n",
        "y = data['ANNUAL'].values\n",
        "\n",
        "# Split the data into training and testing sets\n",
        "X_train, X_test, y_train, y_test = train_test_split(X, y, test_size=0.2, random_state=42)\n",
        "\n",
        "# Fit the linear regression model\n",
        "model = LinearRegression()\n",
        "model.fit(X_train, y_train)\n",
        "\n",
        "# Predictions\n",
        "y_pred = model.predict(X_test)\n",
        "\n",
        "# Calculate metrics\n",
        "mse = mean_squared_error(y_test, y_pred)\n",
        "mae = mean_absolute_error(y_test, y_pred)\n",
        "r2 = r2_score(y_test, y_pred)\n",
        "\n",
        "print(\"Mean Squared Error (MSE):\", mse)\n",
        "print(\"Mean Absolute Error (MAE):\", mae)\n",
        "print(\"R-Squared (R^2):\", r2)\n",
        "\n",
        "# Visualize the regression model\n",
        "plt.figure(figsize=(10, 6))\n",
        "plt.scatter(X_test, y_test, color='blue', label='Actual')\n",
        "plt.plot(X_test, y_pred, color='red', linewidth=2, label='Predicted')\n",
        "plt.xlabel('Month')\n",
        "plt.ylabel('Temperature (Celsius)')\n",
        "plt.title('Simple Linear Regression Model')\n",
        "plt.legend()\n",
        "plt.show()\n"
      ],
      "metadata": {
        "colab": {
          "base_uri": "https://localhost:8080/",
          "height": 616
        },
        "id": "tV5Epf9iq9Jv",
        "outputId": "865beef6-37ad-400f-f957-33088205156d"
      },
      "execution_count": null,
      "outputs": [
        {
          "output_type": "stream",
          "name": "stdout",
          "text": [
            "Mean Squared Error (MSE): 0.2062573233109893\n",
            "Mean Absolute Error (MAE): 0.28045479124619366\n",
            "R-Squared (R^2): 0.5733931056341353\n"
          ]
        },
        {
          "output_type": "display_data",
          "data": {
            "text/plain": [
              "<Figure size 1000x600 with 1 Axes>"
            ],
            "image/png": "[encoded data removed]"
          },
          "metadata": {}
        }
      ]
    }
  ]
}